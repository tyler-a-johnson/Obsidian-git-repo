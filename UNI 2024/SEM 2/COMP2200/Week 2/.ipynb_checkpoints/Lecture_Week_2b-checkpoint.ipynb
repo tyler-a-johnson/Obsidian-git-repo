{
 "cells": [
  {
   "cell_type": "markdown",
   "metadata": {
    "slideshow": {
     "slide_type": "slide"
    }
   },
   "source": [
    "# Python \n",
    "\n",
    "* About the Python language\n",
    "* Running Python code\n",
    "* Python data structures\n",
    "* Contol structures \n",
    "\n",
    "Some slides copied and adapted from [Software Carpentry](http://swcarpentry.github.io/python-novice-gapminder/02-variables/index.html)"
   ]
  },
  {
   "cell_type": "markdown",
   "metadata": {
    "slideshow": {
     "slide_type": "slide"
    }
   },
   "source": [
    "# Running Python \n",
    "\n",
    "* Python is an interpreted language, the `python` program runs python code\n",
    "* Run `python` with no arguments to get a Python prompt\n",
    "    * enter Python expressions and see the results (demo)\n",
    "* Save your program in a file `code.py` and run it with a command line:\n",
    "    * `python code.py`\n",
    "* Use the Jupyter Notebook environment to run your code\n",
    "    * enter code in blocks and click __Run__, see the result below\n",
    "    "
   ]
  },
  {
   "cell_type": "markdown",
   "metadata": {
    "slideshow": {
     "slide_type": "slide"
    }
   },
   "source": [
    "# Variables and Values\n",
    "\n",
    "* Variables are names for values.\n",
    "* In Python the `=` symbol assigns the value on the right to the name on the left.\n",
    "* The variable is created when a value is assigned to it.\n",
    "* Variable names\n",
    "    * can only contain letters, digits, and underscore _ (typically used to separate words in long variable names)\n",
    "    * cannot start with a digit\n",
    "* Here, Python assigns an age to a variable `age` and a name in quotes to a variable `first_name`."
   ]
  },
  {
   "cell_type": "code",
   "execution_count": 1,
   "metadata": {
    "slideshow": {
     "slide_type": "fragment"
    }
   },
   "outputs": [],
   "source": [
    "age = 23\n",
    "first_name = 'Sonit'"
   ]
  },
  {
   "cell_type": "markdown",
   "metadata": {
    "slideshow": {
     "slide_type": "slide"
    }
   },
   "source": [
    "# Use print to display values.\n",
    "\n",
    "* Python has a built-in function called `print` that prints things as text.\n",
    "* Call the function (i.e., tell Python to run it) by using its name.\n",
    "* Provide values to the function (i.e., the things to print) in parentheses.\n",
    "* To add a string to the printout, wrap the string in single or double quotes.\n",
    "* The values passed to the function are called ‘arguments’"
   ]
  },
  {
   "cell_type": "code",
   "execution_count": 2,
   "metadata": {
    "slideshow": {
     "slide_type": "fragment"
    }
   },
   "outputs": [
    {
     "name": "stdout",
     "output_type": "stream",
     "text": [
      "23\n"
     ]
    }
   ],
   "source": [
    "first_name\n",
    "print(age)"
   ]
  },
  {
   "cell_type": "code",
   "execution_count": 3,
   "metadata": {},
   "outputs": [
    {
     "name": "stdout",
     "output_type": "stream",
     "text": [
      "Sonit\n"
     ]
    }
   ],
   "source": [
    "print(first_name)"
   ]
  },
  {
   "cell_type": "markdown",
   "metadata": {
    "slideshow": {
     "slide_type": "slide"
    }
   },
   "source": [
    "# Variables must be created before they are used.\n",
    "\n",
    "* If a variable doesn’t exist yet, or if the name has been mis-spelled, Python reports an error.\n",
    "* Unlike some languages, which “guess” a default value."
   ]
  },
  {
   "cell_type": "code",
   "execution_count": 4,
   "metadata": {},
   "outputs": [],
   "source": [
    "last_name = \"Wang\""
   ]
  },
  {
   "cell_type": "code",
   "execution_count": 5,
   "metadata": {},
   "outputs": [
    {
     "name": "stdout",
     "output_type": "stream",
     "text": [
      "Wang\n"
     ]
    }
   ],
   "source": [
    "print(last_name)"
   ]
  },
  {
   "cell_type": "markdown",
   "metadata": {
    "slideshow": {
     "slide_type": "slide"
    }
   },
   "source": [
    "# Order of execution\n",
    "\n",
    "* In a notebook, the order of execution is the order you run the cells\n",
    "* You could define a variable early in the notebook but if the cell is not run it will not be defined\n",
    "* To prevent confusion, it can be helpful to use the `Kernel` -> `Restart & Run All` option which clears the interpreter and runs everything from a clean slate going top to bottom."
   ]
  },
  {
   "cell_type": "markdown",
   "metadata": {
    "slideshow": {
     "slide_type": "slide"
    }
   },
   "source": [
    "# Variables can be used in calculations.\n",
    "\n",
    "* We can use variables in calculations just as if they were values.\n",
    "    * Remember, we assigned 23 to `age` a few lines ago."
   ]
  },
  {
   "cell_type": "code",
   "execution_count": 6,
   "metadata": {
    "slideshow": {
     "slide_type": "fragment"
    }
   },
   "outputs": [
    {
     "name": "stdout",
     "output_type": "stream",
     "text": [
      "Age in two years is: 25\n"
     ]
    }
   ],
   "source": [
    "age = age + 2\n",
    "print(\"Age in two years is:\", age)"
   ]
  },
  {
   "cell_type": "markdown",
   "metadata": {
    "slideshow": {
     "slide_type": "slide"
    }
   },
   "source": [
    "# Use an index to get a single character from a string\n",
    "\n",
    "* Square brackets after variable name access parts of the string\n",
    "* Each character position is given a number or index\n",
    "* index starts from 0 \n",
    "* So, the fist character is 0, the second 1 etc"
   ]
  },
  {
   "cell_type": "code",
   "execution_count": 7,
   "metadata": {},
   "outputs": [
    {
     "name": "stdout",
     "output_type": "stream",
     "text": [
      "n\n",
      "comp2200:data science\n"
     ]
    }
   ],
   "source": [
    "city = \"Sydney\"\n",
    "print(city[3])\n",
    "city + ' here'\n",
    "\n",
    "title = \"data science\"\n",
    "code = \"comp2200\"\n",
    "myunit = code + \":\" + title\n",
    "print(myunit)"
   ]
  },
  {
   "cell_type": "markdown",
   "metadata": {
    "slideshow": {
     "slide_type": "slide"
    }
   },
   "source": [
    "# Use a slice to get a substring\n",
    "\n",
    "* If we want to get part of a string, use a slice\n",
    "* Same square bracket notation\n",
    "* This time two indices: `[start:end]`\n",
    "* Value is every character from `start` upto but not including `end`\n",
    "* If you miss `start` or `end` then the start or end of the string is assumed"
   ]
  },
  {
   "cell_type": "code",
   "execution_count": 8,
   "metadata": {
    "slideshow": {
     "slide_type": "slide"
    }
   },
   "outputs": [
    {
     "name": "stdout",
     "output_type": "stream",
     "text": [
      "Syd\n",
      "dn\n",
      "Syd\n",
      "dney\n",
      "Sydney\n"
     ]
    }
   ],
   "source": [
    "print(city[0:3])\n",
    "print(city[2:4])\n",
    "print(city[:3])\n",
    "print(city[2:])\n",
    "print(city[:9])"
   ]
  },
  {
   "cell_type": "markdown",
   "metadata": {
    "slideshow": {
     "slide_type": "slide"
    }
   },
   "source": [
    "# Python Data Structures\n",
    "\n",
    "* Understand the different data structures available in Python\n",
    "* Strings, Lists, Tuples, Dictionaries\n",
    "* Methods defined on each type \n",
    "* What to use for different tasks\n",
    "* Packages and data structures for numerical data analysis:\n",
    "    * Numpy vectors, arrays, matrices"
   ]
  },
  {
   "cell_type": "markdown",
   "metadata": {
    "slideshow": {
     "slide_type": "slide"
    }
   },
   "source": [
    "## Strings\n",
    "\n",
    "* Sequence of characters representing text\n",
    "* In Python, strings are unicode - so can store any characters\n",
    "* Can use single quote ', double quote \" or triple quotes \"\"\" \n",
    "* Strings are objects, call methods on them\n",
    "* Check out [the documentation](https://docs.python.org/3/library/string.html) for more"
   ]
  },
  {
   "cell_type": "code",
   "execution_count": 9,
   "metadata": {
    "slideshow": {
     "slide_type": "subslide"
    }
   },
   "outputs": [
    {
     "name": "stdout",
     "output_type": "stream",
     "text": [
      "triple quoted string\n",
      "can contain \n",
      "newlines\n"
     ]
    }
   ],
   "source": [
    "s1 = 'single quoted string might have \"quotes in it\"'\n",
    "s2 = \"double quoted string could contain it's or that's\"\n",
    "s3 = \"\"\"triple quoted string\n",
    "can contain \n",
    "newlines\"\"\"\n",
    "s4 = \"String containing 中文\"\n",
    "print(s3)"
   ]
  },
  {
   "cell_type": "code",
   "execution_count": 10,
   "metadata": {
    "slideshow": {
     "slide_type": "fragment"
    }
   },
   "outputs": [
    {
     "name": "stdout",
     "output_type": "stream",
     "text": [
      "triple quoted string\n",
      "can contain \n",
      "newlines\n"
     ]
    }
   ],
   "source": [
    "print(s3)"
   ]
  },
  {
   "cell_type": "markdown",
   "metadata": {
    "slideshow": {
     "slide_type": "slide"
    }
   },
   "source": [
    "# Operations on Strings"
   ]
  },
  {
   "cell_type": "code",
   "execution_count": 11,
   "metadata": {
    "slideshow": {
     "slide_type": "fragment"
    }
   },
   "outputs": [
    {
     "data": {
      "text/plain": [
       "'MACQUARIE UNIVERSITY'"
      ]
     },
     "execution_count": 11,
     "metadata": {},
     "output_type": "execute_result"
    }
   ],
   "source": [
    "# convert s4 to uppercase and store as s5\n",
    "s4 = \"macquarie university\"\n",
    "s5 = s4.upper()\n",
    "s5"
   ]
  },
  {
   "cell_type": "code",
   "execution_count": 12,
   "metadata": {
    "slideshow": {
     "slide_type": "fragment"
    }
   },
   "outputs": [
    {
     "data": {
      "text/plain": [
       "'y'"
      ]
     },
     "execution_count": 12,
     "metadata": {},
     "output_type": "execute_result"
    }
   ],
   "source": [
    "# find the first occurence of 'g' in s4\n",
    "firstg = s4.find('g')\n",
    "# get all characters after that\n",
    "s4[firstg:]"
   ]
  },
  {
   "cell_type": "markdown",
   "metadata": {
    "slideshow": {
     "slide_type": "slide"
    }
   },
   "source": [
    "# Lists and Tuples\n",
    "\n",
    "* Lists are sequences of values\n",
    "* Written inside square brackets, separated by commas\n",
    "    * ['this', 'is', 'a', 'list', 'of', 'strings'], [3, 4, 6]\n",
    "    * ['strings', 'and', 3, 9, 2]\n",
    "    * ['lists', 'containing', ['another', 'list']]\n",
    "* Lists can be modified, elements added, removed, replaced\n",
    "* Tuples are just like lists but can't be modified\n",
    "    * ('this', 'is', 'a', 'tuple')\n",
    "    * sometimes it's more efficient to use a tuple\n",
    "* Check out the [documentation](https://docs.python.org/3/library/stdtypes.html#sequence-types-list-tuple-range)"
   ]
  },
  {
   "cell_type": "code",
   "execution_count": 13,
   "metadata": {
    "slideshow": {
     "slide_type": "slide"
    }
   },
   "outputs": [
    {
     "data": {
      "text/plain": [
       "['embedded', 'list', ['this', 'is', 'a', 'list', 'of', 'strings']]"
      ]
     },
     "execution_count": 13,
     "metadata": {},
     "output_type": "execute_result"
    }
   ],
   "source": [
    "list1 = ['this', 'is', 'a', 'list', 'of', 'strings']\n",
    "list2 = ['embedded', 'list', list1]\n",
    "list2"
   ]
  },
  {
   "cell_type": "code",
   "execution_count": 14,
   "metadata": {
    "slideshow": {
     "slide_type": "fragment"
    }
   },
   "outputs": [
    {
     "data": {
      "text/plain": [
       "True"
      ]
     },
     "execution_count": 14,
     "metadata": {},
     "output_type": "execute_result"
    }
   ],
   "source": [
    "# the 'in' operator checks whether something is in a list\n",
    "'a' in list1"
   ]
  },
  {
   "cell_type": "code",
   "execution_count": 15,
   "metadata": {
    "slideshow": {
     "slide_type": "fragment"
    }
   },
   "outputs": [
    {
     "name": "stdout",
     "output_type": "stream",
     "text": [
      "found it\n"
     ]
    }
   ],
   "source": [
    "if 'a' in list1:\n",
    "    print(\"found it\")\n",
    "else:\n",
    "    print(\"not found\")"
   ]
  },
  {
   "cell_type": "markdown",
   "metadata": {
    "slideshow": {
     "slide_type": "slide"
    }
   },
   "source": [
    "# Lists and Loops"
   ]
  },
  {
   "cell_type": "code",
   "execution_count": 16,
   "metadata": {
    "slideshow": {
     "slide_type": "fragment"
    }
   },
   "outputs": [
    {
     "name": "stdout",
     "output_type": "stream",
     "text": [
      "['To', 'be', 'or', 'not', 'to', 'be', 'that', 'is', 'the', 'question']\n",
      "To 2\n",
      "be 2\n",
      "or 2\n",
      "not 3\n",
      "to 2\n",
      "be 2\n",
      "that 4\n",
      "is 2\n",
      "the 3\n",
      "question 8\n",
      "[2, 2, 2, 3, 2, 2, 4, 2, 3, 8]\n"
     ]
    }
   ],
   "source": [
    "text = \"To be or not to be that is the question\"\n",
    "# split the string at every space character, generate a list\n",
    "words = text.split()\n",
    "print(words)\n",
    "\n",
    "# create a new empty list\n",
    "wordlengths = []\n",
    "for word in words:\n",
    "    # append the length of this word to our list\n",
    "    wordlengths.append(len(word))\n",
    "    print(word, len(word))\n",
    "print(wordlengths)\n"
   ]
  },
  {
   "cell_type": "code",
   "execution_count": 17,
   "metadata": {},
   "outputs": [
    {
     "name": "stdout",
     "output_type": "stream",
     "text": [
      "[]\n",
      "[2, 2, 2, 3, 2, 2, 4, 2, 3, 8]\n"
     ]
    }
   ],
   "source": [
    "words = text.split()\n",
    "lenWords = []\n",
    "print(lenWords)\n",
    "for word in words:\n",
    "    lenWords.append(len(word))\n",
    "print(lenWords)"
   ]
  },
  {
   "cell_type": "markdown",
   "metadata": {
    "slideshow": {
     "slide_type": "slide"
    }
   },
   "source": [
    "# Tuples vs Lists"
   ]
  },
  {
   "cell_type": "code",
   "execution_count": 18,
   "metadata": {
    "slideshow": {
     "slide_type": "fragment"
    }
   },
   "outputs": [
    {
     "name": "stdout",
     "output_type": "stream",
     "text": [
      "Length:  3\n",
      "Second element:  Singh\n"
     ]
    }
   ],
   "source": [
    "# could use a tuple to represent a data record\n",
    "record = ('Sonit', 'Singh', 27) \n",
    "# can use some of the same operations as lists\n",
    "print(\"Length: \", len(record))\n",
    "print(\"Second element: \", record[1])"
   ]
  },
  {
   "cell_type": "code",
   "execution_count": 19,
   "metadata": {
    "slideshow": {
     "slide_type": "fragment"
    }
   },
   "outputs": [],
   "source": [
    "# but this can't be modified\n",
    "# running the below code will throw an error\n",
    "# record.append(21), The append() method adds an item to the end of the list."
   ]
  },
  {
   "cell_type": "markdown",
   "metadata": {
    "slideshow": {
     "slide_type": "slide"
    }
   },
   "source": [
    "# Tuples, Lists and Strings\n",
    "\n",
    "These are all _sequence_ types and share some common operations."
   ]
  },
  {
   "cell_type": "code",
   "execution_count": 20,
   "metadata": {
    "slideshow": {
     "slide_type": "fragment"
    }
   },
   "outputs": [
    {
     "data": {
      "text/plain": [
       "1"
      ]
     },
     "execution_count": 20,
     "metadata": {},
     "output_type": "execute_result"
    }
   ],
   "source": [
    "s = ['a', 'list', 'of', 'stuff']\n",
    "t = [1, 2, 3]\n",
    "\n",
    "'a' in s         # boolean test\n",
    "'x' not in s     # boolean test\n",
    "s + t            # concatenate s and t\n",
    "t * 3            # t repeated 3 times\n",
    "s[1]             # second element\n",
    "s[:2]            # all elements up to the second\n",
    "s[2:4]           # all elements from 3rd to 4th\n",
    "min(s)           # smallest element\n",
    "max(s)           # largest element\n",
    "s.count('a')     # how many times does 'a' occur"
   ]
  },
  {
   "cell_type": "markdown",
   "metadata": {
    "slideshow": {
     "slide_type": "slide"
    }
   },
   "source": [
    "# Dictionaries\n",
    "\n",
    "* Dictionaries are associative arrays\n",
    "* Associate a key with a value\n",
    "* Key can be any immutable type (string, number, tuple)\n",
    "* Value can be anything\n",
    "* O(1) access to elements (hash table)\n",
    "* Compare with lists that are O(n)\n"
   ]
  },
  {
   "cell_type": "markdown",
   "metadata": {
    "slideshow": {
     "slide_type": "slide"
    }
   },
   "source": [
    "# Dictionaries"
   ]
  },
  {
   "cell_type": "code",
   "execution_count": 21,
   "metadata": {
    "slideshow": {
     "slide_type": "fragment"
    }
   },
   "outputs": [
    {
     "data": {
      "text/plain": [
       "{'name': 'Sonit Singh', 'age': 27, 'weight': 77}"
      ]
     },
     "execution_count": 21,
     "metadata": {},
     "output_type": "execute_result"
    }
   ],
   "source": [
    "info = dict()\n",
    "info['name'] = 'Sonit Singh'\n",
    "info['age'] = 27\n",
    "info['weight'] = 77\n",
    "info"
   ]
  },
  {
   "cell_type": "code",
   "execution_count": 22,
   "metadata": {
    "slideshow": {
     "slide_type": "fragment"
    }
   },
   "outputs": [
    {
     "data": {
      "text/plain": [
       "'Steve Cassidy'"
      ]
     },
     "execution_count": 22,
     "metadata": {},
     "output_type": "execute_result"
    }
   ],
   "source": [
    "info = {\n",
    "    'name': 'Steve Cassidy', \n",
    "    'age': 53, \n",
    "    'weight': 80\n",
    "}\n",
    "info['name']"
   ]
  },
  {
   "cell_type": "code",
   "execution_count": 23,
   "metadata": {
    "slideshow": {
     "slide_type": "fragment"
    }
   },
   "outputs": [
    {
     "name": "stdout",
     "output_type": "stream",
     "text": [
      "Age:  53\n"
     ]
    }
   ],
   "source": [
    "if 'age' in info:\n",
    "    print(\"Age: \", info['age'])"
   ]
  },
  {
   "cell_type": "markdown",
   "metadata": {
    "slideshow": {
     "slide_type": "slide"
    }
   },
   "source": [
    "# An Example\n",
    "\n",
    "Let's write some code to use strings, lists and dictionaries to solve a problem. \n",
    "\n",
    "Given a text, count how many times each word occurs in the text.\n"
   ]
  },
  {
   "cell_type": "code",
   "execution_count": 24,
   "metadata": {
    "slideshow": {
     "slide_type": "subslide"
    }
   },
   "outputs": [
    {
     "name": "stdout",
     "output_type": "stream",
     "text": [
      "Python is an easy to learn  powerful programming language  \n",
      "It has efficient high level data structures and a simple but effective \n",
      "approach to object oriented programming  Python’s elegant syntax \n",
      "and dynamic typing  together with its interpreted nature  make \n",
      "it an ideal language for scripting and rapid application development \n",
      "in many areas on most platforms  Comp6500 data science \n",
      "python is an easy to learn  powerful programming language  \n",
      "it has efficient high level data structures and a simple but effective \n",
      "approach to object oriented programming  python’s elegant syntax \n",
      "and dynamic typing  together with its interpreted nature  make \n",
      "it an ideal language for scripting and rapid application development \n",
      "in many areas on most platforms  comp6500 data science \n"
     ]
    }
   ],
   "source": [
    "text = \"\"\"Python is an easy to learn, powerful programming language. \n",
    "It has efficient high-level data structures and a simple but effective \n",
    "approach to object-oriented programming. Python’s elegant syntax \n",
    "and dynamic typing, together with its interpreted nature, make \n",
    "it an ideal language for scripting and rapid application development \n",
    "in many areas on most platforms. Comp6500_data science.\"\"\"\n",
    "\n",
    "# remove punctuation and convert to lowercase\n",
    "text = text.replace(',',' ').replace('.', ' ').replace('-', ' ').replace('_', ' ')\n",
    "print(text)\n",
    "text = text.lower()\n",
    "print(text)\n"
   ]
  },
  {
   "cell_type": "code",
   "execution_count": 25,
   "metadata": {
    "slideshow": {
     "slide_type": "subslide"
    }
   },
   "outputs": [
    {
     "name": "stdout",
     "output_type": "stream",
     "text": [
      "a 1\n",
      "an 2\n",
      "and 3\n",
      "application 1\n",
      "approach 1\n",
      "areas 1\n",
      "but 1\n",
      "comp6500 1\n",
      "data 2\n",
      "development 1\n",
      "dynamic 1\n",
      "easy 1\n",
      "effective 1\n",
      "efficient 1\n",
      "elegant 1\n",
      "for 1\n",
      "has 1\n",
      "high 1\n",
      "ideal 1\n",
      "in 1\n",
      "interpreted 1\n",
      "is 1\n",
      "it 2\n",
      "its 1\n",
      "language 2\n",
      "learn 1\n",
      "level 1\n",
      "make 1\n",
      "many 1\n",
      "most 1\n",
      "nature 1\n",
      "object 1\n",
      "on 1\n",
      "oriented 1\n",
      "platforms 1\n",
      "powerful 1\n",
      "programming 2\n",
      "python 1\n",
      "python’s 1\n",
      "rapid 1\n",
      "science 1\n",
      "scripting 1\n",
      "simple 1\n",
      "structures 1\n",
      "syntax 1\n",
      "to 2\n",
      "together 1\n",
      "typing 1\n",
      "with 1\n"
     ]
    }
   ],
   "source": [
    "# split text into words on whitespace\n",
    "words = text.split()\n",
    "# intialise a dictionary for word counts\n",
    "# we will use the word as a key and store the count for each word\n",
    "count = dict()\n",
    "# count the words\n",
    "for word in words:\n",
    "    if word in count:\n",
    "        count[word] += 1        # word is already in the dictionary, word is a value in the dictionary count.\n",
    "    else:\n",
    "        count[word] = 1         # word is not in the dictionary\n",
    "\n",
    "for word in sorted(count):\n",
    "    print(word, count[word])"
   ]
  },
  {
   "cell_type": "markdown",
   "metadata": {
    "slideshow": {
     "slide_type": "slide"
    }
   },
   "source": [
    "# Python Functions and Control Structures\n",
    "\n",
    "We need to know how to define and call functions and how to write loop and conditionals."
   ]
  },
  {
   "cell_type": "code",
   "execution_count": 26,
   "metadata": {
    "slideshow": {
     "slide_type": "slide"
    }
   },
   "outputs": [
    {
     "name": "stdout",
     "output_type": "stream",
     "text": [
      "{'this': 1, 'is': 1, 'my': 1, 'text': 1}\n",
      "{'and': 1, 'this': 2, 'is': 1, 'another': 1, 'text': 1, 'with': 1, 'in': 1, 'it': 1, 'a': 1, 'few': 1, 'times': 1}\n"
     ]
    }
   ],
   "source": [
    "def count_words(text):\n",
    "    \"\"\"Count the words in a given text string. \n",
    "    Return a dictionary with words as keys and word counts as values.\"\"\"\n",
    "    \n",
    "    words = text.split()\n",
    "    count = dict()\n",
    "    \n",
    "    for word in words:\n",
    "        if word in count:\n",
    "            count[word] += 1        \n",
    "        else:\n",
    "            count[word] = 1         \n",
    "    return count\n",
    "\n",
    "c1 = count_words(\"this is my text\")\n",
    "c2 = count_words(\"and this is another text with this in it a few times\")\n",
    "\n",
    "print(c1)\n",
    "print(c2)"
   ]
  },
  {
   "cell_type": "markdown",
   "metadata": {
    "slideshow": {
     "slide_type": "slide"
    }
   },
   "source": [
    "## Notes\n",
    "\n",
    "* The 'def' keyword is used to introduce a function.  \n",
    "* There are no type declarations for variables\n",
    "    * However, Python 3.5 introduced _type hinting_\n",
    "* Just after the 'def' line we can include a __Documentation String__\n",
    "    * Describes the function, how it could be used\n",
    "    * Becomes the online help for the function\n",
    "    "
   ]
  },
  {
   "cell_type": "code",
   "execution_count": 27,
   "metadata": {
    "slideshow": {
     "slide_type": "fragment"
    }
   },
   "outputs": [
    {
     "name": "stdout",
     "output_type": "stream",
     "text": [
      "Help on function count_words in module __main__:\n",
      "\n",
      "count_words(text)\n",
      "    Count the words in a given text string. \n",
      "    Return a dictionary with words as keys and word counts as values.\n",
      "\n"
     ]
    }
   ],
   "source": [
    "help(count_words)"
   ]
  },
  {
   "cell_type": "markdown",
   "metadata": {
    "slideshow": {
     "slide_type": "slide"
    }
   },
   "source": [
    "# A More Complex Function"
   ]
  },
  {
   "cell_type": "code",
   "execution_count": 28,
   "metadata": {
    "slideshow": {
     "slide_type": "fragment"
    }
   },
   "outputs": [
    {
     "name": "stdout",
     "output_type": "stream",
     "text": [
      "[0, 0, 0]\n",
      "[1, 1, 1]\n",
      "[2, 2, 2]\n"
     ]
    }
   ],
   "source": [
    "def make_list(n, element=0):\n",
    "    \"\"\"Generate a list of n elements, \n",
    "     if element is supplied use that (default 0)\"\"\"\n",
    "    \n",
    "    result = []\n",
    "    for i in range(n):\n",
    "        result.append(element)\n",
    "    return result\n",
    "\n",
    "print(make_list(3))\n",
    "print(make_list(3, 1))\n",
    "print(make_list(3, element=2))\n"
   ]
  },
  {
   "cell_type": "markdown",
   "metadata": {
    "slideshow": {
     "slide_type": "slide"
    }
   },
   "source": [
    "# NumPy Data Structures\n",
    "\n",
    "* [NumPy](https://docs.scipy.org/doc/numpy/user/index.html) is a Python module for numerical computing\n",
    "* It supports a multidimensional array type (array)\n",
    "* Operations on numerical data\n",
    "* Faster than using Python lists to hold data\n",
    "* Arrays can be one, two, three or many dimensional"
   ]
  },
  {
   "cell_type": "markdown",
   "metadata": {
    "slideshow": {
     "slide_type": "slide"
    }
   },
   "source": [
    "# One Dimensional Arrays"
   ]
  },
  {
   "cell_type": "code",
   "execution_count": 29,
   "metadata": {
    "slideshow": {
     "slide_type": "fragment"
    }
   },
   "outputs": [
    {
     "name": "stdout",
     "output_type": "stream",
     "text": [
      "[1 2 3 2 1]\n",
      "Type is: int64\n",
      "[1.  2.1 3.  2.  1. ]\n",
      "Type is: float64\n",
      "[   0    1    2 ... 9997 9998 9999]\n"
     ]
    }
   ],
   "source": [
    "import numpy as np\n",
    "\n",
    "# make an array from a Python list\n",
    "a1 = np.array([1, 2, 3, 2, 1])\n",
    "print(a1)\n",
    "# the type of the array is defined by the dtype property\n",
    "print(\"Type is:\", a1.dtype)\n",
    "\n",
    "# all elements in the array have the same type\n",
    "# so here integers are coerced to float64\n",
    "a2 = np.array([1.0, 2.1, 3, 2, 1])\n",
    "print(a2)\n",
    "print(\"Type is:\", a2.dtype)\n",
    "\n",
    "# make a sequence from 1..x with arange\n",
    "a3 = np.arange(10000)\n",
    "print(a3)"
   ]
  },
  {
   "cell_type": "markdown",
   "metadata": {
    "slideshow": {
     "slide_type": "slide"
    }
   },
   "source": [
    "# NumPy Arrays are faster than Python Lists"
   ]
  },
  {
   "cell_type": "code",
   "execution_count": 30,
   "metadata": {
    "slideshow": {
     "slide_type": "fragment"
    }
   },
   "outputs": [
    {
     "name": "stdout",
     "output_type": "stream",
     "text": [
      "49999995000000.0\n",
      "49999995000000.0\n",
      "Time: 0.00481414794921875\n"
     ]
    }
   ],
   "source": [
    "import time\n",
    "import numpy as np\n",
    "# make a big array of 10 million integers\n",
    "bigarray = np.arange(10e6)\n",
    "print(bigarray.sum())\n",
    "\n",
    "# time the execution of sum\n",
    "start = time.time()\n",
    "print(bigarray.sum())\n",
    "print(\"Time:\", time.time()-start)"
   ]
  },
  {
   "cell_type": "code",
   "execution_count": 31,
   "metadata": {
    "slideshow": {
     "slide_type": "fragment"
    }
   },
   "outputs": [
    {
     "name": "stdout",
     "output_type": "stream",
     "text": [
      "49999995000000.0\n",
      "Time: 0.8322510719299316\n"
     ]
    }
   ],
   "source": [
    "# convert to a Python list\n",
    "biglist = list(bigarray)\n",
    "start = time.time()\n",
    "print(sum(biglist))\n",
    "print(\"Time:\", time.time()-start)"
   ]
  },
  {
   "cell_type": "markdown",
   "metadata": {
    "slideshow": {
     "slide_type": "slide"
    }
   },
   "source": [
    "# Two Dimensions"
   ]
  },
  {
   "cell_type": "code",
   "execution_count": 32,
   "metadata": {
    "slideshow": {
     "slide_type": "fragment"
    }
   },
   "outputs": [
    {
     "name": "stdout",
     "output_type": "stream",
     "text": [
      "[[1. 2. 3.]\n",
      " [4. 5. 6.]]\n"
     ]
    }
   ],
   "source": [
    "# Create a 3 x 2 array from nested Python lists, specify the dtype\n",
    "mat = np.array([[1, 2, 3], [4, 5, 6]], np.float64)\n",
    "print(mat)"
   ]
  },
  {
   "cell_type": "code",
   "execution_count": 33,
   "metadata": {
    "slideshow": {
     "slide_type": "fragment"
    }
   },
   "outputs": [
    {
     "name": "stdout",
     "output_type": "stream",
     "text": [
      "[[1 0 0 0 0]\n",
      " [0 2 0 0 0]\n",
      " [0 0 3 0 0]\n",
      " [0 0 0 4 0]\n",
      " [0 0 0 0 5]]\n"
     ]
    }
   ],
   "source": [
    "# make a diagonal array from a Python list\n",
    "diag = np.diag([1, 2, 3, 4, 5])\n",
    "print(diag)"
   ]
  },
  {
   "cell_type": "code",
   "execution_count": 34,
   "metadata": {
    "slideshow": {
     "slide_type": "fragment"
    }
   },
   "outputs": [
    {
     "name": "stdout",
     "output_type": "stream",
     "text": [
      "(5, 5)\n",
      "25\n",
      "2\n"
     ]
    }
   ],
   "source": [
    "# properties of arrays\n",
    "print(diag.shape) # tuple describing shape\n",
    "print(diag.size)  # number of elements\n",
    "print(diag.ndim)  # number of dimensions"
   ]
  },
  {
   "cell_type": "markdown",
   "metadata": {
    "slideshow": {
     "slide_type": "slide"
    }
   },
   "source": [
    "# More Dimensions"
   ]
  },
  {
   "cell_type": "code",
   "execution_count": 35,
   "metadata": {
    "slideshow": {
     "slide_type": "fragment"
    }
   },
   "outputs": [
    {
     "data": {
      "text/plain": [
       "array([[[ 0,  1,  2,  3],\n",
       "        [ 4,  5,  6,  7],\n",
       "        [ 8,  9, 10, 11]],\n",
       "\n",
       "       [[12, 13, 14, 15],\n",
       "        [16, 17, 18, 19],\n",
       "        [20, 21, 22, 23]]])"
      ]
     },
     "execution_count": 35,
     "metadata": {},
     "output_type": "execute_result"
    }
   ],
   "source": [
    "# make a one dimensional array of integers up to 24\n",
    "# then reshape it to be 2 x 3 x 4\n",
    "threeD = np.arange(24).reshape(2,3,4) # 2 elements in first dimension, with 3 sub-elelments in each, and it contains 4 digits in each element.\n",
    "threeD"
   ]
  },
  {
   "cell_type": "markdown",
   "metadata": {
    "slideshow": {
     "slide_type": "slide"
    }
   },
   "source": [
    "# Axes in Multi-dimensional Arrays\n",
    "\n",
    "* One dimensional arrays have one axis\n",
    "* Two dimensional arrays have two axes (etc)\n",
    "* In our 2 x 3 x 4 array the first axis has size 2\n",
    "* The second has size 3 etc"
   ]
  },
  {
   "cell_type": "code",
   "execution_count": 36,
   "metadata": {
    "slideshow": {
     "slide_type": "fragment"
    }
   },
   "outputs": [
    {
     "data": {
      "text/plain": [
       "array([[1., 2., 3.],\n",
       "       [4., 5., 6.]])"
      ]
     },
     "execution_count": 36,
     "metadata": {},
     "output_type": "execute_result"
    }
   ],
   "source": [
    "mat"
   ]
  },
  {
   "cell_type": "code",
   "execution_count": 37,
   "metadata": {
    "slideshow": {
     "slide_type": "fragment"
    }
   },
   "outputs": [
    {
     "data": {
      "text/plain": [
       "(2, 3)"
      ]
     },
     "execution_count": 37,
     "metadata": {},
     "output_type": "execute_result"
    }
   ],
   "source": [
    "mat.shape"
   ]
  },
  {
   "cell_type": "code",
   "execution_count": 38,
   "metadata": {
    "slideshow": {
     "slide_type": "fragment"
    }
   },
   "outputs": [
    {
     "name": "stdout",
     "output_type": "stream",
     "text": [
      "[1. 2. 3.]\n",
      "[1. 2.]\n",
      "[1. 4.]\n"
     ]
    }
   ],
   "source": [
    "# use [] notation to get at parts of the matrix\n",
    "print(mat[0])     # first row\n",
    "print(mat[0,0:2])   # \n",
    "print(mat[:,0])   # first column"
   ]
  },
  {
   "cell_type": "markdown",
   "metadata": {
    "slideshow": {
     "slide_type": "slide"
    }
   },
   "source": [
    "# More Examples\n",
    "\n",
    "See the documentation: [NumPy Quickstart](https://docs.scipy.org/doc/numpy/user/quickstart.html), [NumPy Basics](https://docs.scipy.org/doc/numpy/user/basics.html)"
   ]
  },
  {
   "cell_type": "markdown",
   "metadata": {
    "slideshow": {
     "slide_type": "slide"
    }
   },
   "source": [
    "## Pandas\n",
    "\n",
    "* [Pandas](https://pandas.pydata.org/) is another Python package that builds on numpy to provide some useful capabilities.\n",
    "* The main feature of pandas are one and two-dimensional data structures [Series](http://pandas.pydata.org/pandas-docs/stable/dsintro.html#series) and [DataFrame](http://pandas.pydata.org/pandas-docs/stable/dsintro.html#dataframe)\n",
    "* A DataFrame is like a numpy 2-D array but with extra features like column and row names - more like a spreadsheet\n"
   ]
  },
  {
   "cell_type": "code",
   "execution_count": 39,
   "metadata": {
    "slideshow": {
     "slide_type": "fragment"
    }
   },
   "outputs": [
    {
     "data": {
      "text/html": [
       "<div>\n",
       "<style scoped>\n",
       "    .dataframe tbody tr th:only-of-type {\n",
       "        vertical-align: middle;\n",
       "    }\n",
       "\n",
       "    .dataframe tbody tr th {\n",
       "        vertical-align: top;\n",
       "    }\n",
       "\n",
       "    .dataframe thead th {\n",
       "        text-align: right;\n",
       "    }\n",
       "</style>\n",
       "<table border=\"1\" class=\"dataframe\">\n",
       "  <thead>\n",
       "    <tr style=\"text-align: right;\">\n",
       "      <th></th>\n",
       "      <th>0</th>\n",
       "      <th>1</th>\n",
       "      <th>2</th>\n",
       "    </tr>\n",
       "  </thead>\n",
       "  <tbody>\n",
       "    <tr>\n",
       "      <th>0</th>\n",
       "      <td>1.0</td>\n",
       "      <td>2.0</td>\n",
       "      <td>3.0</td>\n",
       "    </tr>\n",
       "    <tr>\n",
       "      <th>1</th>\n",
       "      <td>4.0</td>\n",
       "      <td>5.0</td>\n",
       "      <td>6.0</td>\n",
       "    </tr>\n",
       "  </tbody>\n",
       "</table>\n",
       "</div>"
      ],
      "text/plain": [
       "     0    1    2\n",
       "0  1.0  2.0  3.0\n",
       "1  4.0  5.0  6.0"
      ]
     },
     "execution_count": 39,
     "metadata": {},
     "output_type": "execute_result"
    }
   ],
   "source": [
    "import pandas as pd\n",
    "\n",
    "# create a dataframe from a numpy array\n",
    "df = pd.DataFrame(mat)\n",
    "df"
   ]
  },
  {
   "cell_type": "markdown",
   "metadata": {
    "slideshow": {
     "slide_type": "slide"
    }
   },
   "source": [
    "Pandas can understand common CSV formats and derive column headings from the first row:"
   ]
  },
  {
   "cell_type": "code",
   "execution_count": 40,
   "metadata": {
    "slideshow": {
     "slide_type": "fragment"
    }
   },
   "outputs": [
    {
     "data": {
      "text/plain": [
       "(998, 12)"
      ]
     },
     "execution_count": 40,
     "metadata": {},
     "output_type": "execute_result"
    }
   ],
   "source": [
    "df = pd.read_csv('files/SalesJan2009.csv')\n",
    "df.shape"
   ]
  },
  {
   "cell_type": "markdown",
   "metadata": {
    "slideshow": {
     "slide_type": "slide"
    }
   },
   "source": [
    "We can designate one column to be the row labels"
   ]
  },
  {
   "cell_type": "code",
   "execution_count": 41,
   "metadata": {
    "slideshow": {
     "slide_type": "fragment"
    }
   },
   "outputs": [
    {
     "data": {
      "text/html": [
       "<div>\n",
       "<style scoped>\n",
       "    .dataframe tbody tr th:only-of-type {\n",
       "        vertical-align: middle;\n",
       "    }\n",
       "\n",
       "    .dataframe tbody tr th {\n",
       "        vertical-align: top;\n",
       "    }\n",
       "\n",
       "    .dataframe thead th {\n",
       "        text-align: right;\n",
       "    }\n",
       "</style>\n",
       "<table border=\"1\" class=\"dataframe\">\n",
       "  <thead>\n",
       "    <tr style=\"text-align: right;\">\n",
       "      <th></th>\n",
       "      <th>Product</th>\n",
       "      <th>Price</th>\n",
       "      <th>Payment_Type</th>\n",
       "      <th>Name</th>\n",
       "      <th>City</th>\n",
       "      <th>State</th>\n",
       "      <th>Country</th>\n",
       "      <th>Account_Created</th>\n",
       "      <th>Last_Login</th>\n",
       "      <th>Latitude</th>\n",
       "      <th>Longitude</th>\n",
       "    </tr>\n",
       "    <tr>\n",
       "      <th>Transaction_date</th>\n",
       "      <th></th>\n",
       "      <th></th>\n",
       "      <th></th>\n",
       "      <th></th>\n",
       "      <th></th>\n",
       "      <th></th>\n",
       "      <th></th>\n",
       "      <th></th>\n",
       "      <th></th>\n",
       "      <th></th>\n",
       "      <th></th>\n",
       "    </tr>\n",
       "  </thead>\n",
       "  <tbody>\n",
       "    <tr>\n",
       "      <th>1/02/2009 06:17</th>\n",
       "      <td>Product1</td>\n",
       "      <td>1200</td>\n",
       "      <td>Mastercard</td>\n",
       "      <td>carolina</td>\n",
       "      <td>Basildon</td>\n",
       "      <td>England</td>\n",
       "      <td>United Kingdom</td>\n",
       "      <td>1/02/2009 06:00</td>\n",
       "      <td>1/02/2009 06:08</td>\n",
       "      <td>51.500000</td>\n",
       "      <td>-1.116667</td>\n",
       "    </tr>\n",
       "    <tr>\n",
       "      <th>1/02/2009 04:53</th>\n",
       "      <td>Product1</td>\n",
       "      <td>1200</td>\n",
       "      <td>Visa</td>\n",
       "      <td>Betina</td>\n",
       "      <td>Parkville</td>\n",
       "      <td>MO</td>\n",
       "      <td>United States</td>\n",
       "      <td>1/02/2009 04:42</td>\n",
       "      <td>1/02/2009 07:49</td>\n",
       "      <td>39.195000</td>\n",
       "      <td>-94.681940</td>\n",
       "    </tr>\n",
       "    <tr>\n",
       "      <th>1/02/2009 13:08</th>\n",
       "      <td>Product1</td>\n",
       "      <td>1200</td>\n",
       "      <td>Mastercard</td>\n",
       "      <td>Federica e Andrea</td>\n",
       "      <td>Astoria</td>\n",
       "      <td>OR</td>\n",
       "      <td>United States</td>\n",
       "      <td>1/01/2009 16:21</td>\n",
       "      <td>1/03/2009 12:32</td>\n",
       "      <td>46.188060</td>\n",
       "      <td>-123.830000</td>\n",
       "    </tr>\n",
       "    <tr>\n",
       "      <th>1/03/2009 14:44</th>\n",
       "      <td>Product1</td>\n",
       "      <td>1200</td>\n",
       "      <td>Visa</td>\n",
       "      <td>Gouya</td>\n",
       "      <td>Echuca</td>\n",
       "      <td>Victoria</td>\n",
       "      <td>Australia</td>\n",
       "      <td>9/25/05 21:13</td>\n",
       "      <td>1/03/2009 14:22</td>\n",
       "      <td>-36.133333</td>\n",
       "      <td>144.750000</td>\n",
       "    </tr>\n",
       "    <tr>\n",
       "      <th>1/04/2009 12:56</th>\n",
       "      <td>Product2</td>\n",
       "      <td>3600</td>\n",
       "      <td>Visa</td>\n",
       "      <td>Gerd W</td>\n",
       "      <td>Cahaba Heights</td>\n",
       "      <td>AL</td>\n",
       "      <td>United States</td>\n",
       "      <td>11/15/08 15:47</td>\n",
       "      <td>1/04/2009 12:45</td>\n",
       "      <td>33.520560</td>\n",
       "      <td>-86.802500</td>\n",
       "    </tr>\n",
       "  </tbody>\n",
       "</table>\n",
       "</div>"
      ],
      "text/plain": [
       "                   Product Price Payment_Type               Name  \\\n",
       "Transaction_date                                                   \n",
       "1/02/2009 06:17   Product1  1200   Mastercard           carolina   \n",
       "1/02/2009 04:53   Product1  1200         Visa             Betina   \n",
       "1/02/2009 13:08   Product1  1200   Mastercard  Federica e Andrea   \n",
       "1/03/2009 14:44   Product1  1200         Visa              Gouya   \n",
       "1/04/2009 12:56   Product2  3600         Visa            Gerd W    \n",
       "\n",
       "                                          City     State         Country  \\\n",
       "Transaction_date                                                           \n",
       "1/02/2009 06:17                       Basildon   England  United Kingdom   \n",
       "1/02/2009 04:53   Parkville                           MO   United States   \n",
       "1/02/2009 13:08   Astoria                             OR   United States   \n",
       "1/03/2009 14:44                         Echuca  Victoria       Australia   \n",
       "1/04/2009 12:56   Cahaba Heights                      AL   United States   \n",
       "\n",
       "                  Account_Created       Last_Login   Latitude   Longitude  \n",
       "Transaction_date                                                           \n",
       "1/02/2009 06:17   1/02/2009 06:00  1/02/2009 06:08  51.500000   -1.116667  \n",
       "1/02/2009 04:53   1/02/2009 04:42  1/02/2009 07:49  39.195000  -94.681940  \n",
       "1/02/2009 13:08   1/01/2009 16:21  1/03/2009 12:32  46.188060 -123.830000  \n",
       "1/03/2009 14:44     9/25/05 21:13  1/03/2009 14:22 -36.133333  144.750000  \n",
       "1/04/2009 12:56    11/15/08 15:47  1/04/2009 12:45  33.520560  -86.802500  "
      ]
     },
     "execution_count": 41,
     "metadata": {},
     "output_type": "execute_result"
    }
   ],
   "source": [
    "df = pd.read_csv('files/SalesJan2009.csv', index_col=\"Transaction_date\")\n",
    "df.head()"
   ]
  },
  {
   "cell_type": "markdown",
   "metadata": {
    "slideshow": {
     "slide_type": "slide"
    }
   },
   "source": [
    "## Pandas Column Types\n",
    "\n",
    "* Unlike `numpy`, `pandas` DataFrames can contain multiple types - each column has a type. \n",
    "* Each column is a `Series` - a one dimensional structure with a single type\n",
    "* We can index on columns `df['Price']` to access each Series\n",
    "* Index on row names using the `.loc` property: `df.loc['1/2/09 13:08']`\n",
    "* Index rows by integer index using `.iloc` property: `df.iloc[3]` or slides `df.iloc[1:10]`"
   ]
  },
  {
   "cell_type": "markdown",
   "metadata": {
    "slideshow": {
     "slide_type": "subslide"
    }
   },
   "source": [
    "\n",
    "<table border=\"1\">\n",
    "<colgroup>\n",
    "<col width=\"50%\">\n",
    "<col width=\"33%\">\n",
    "<col width=\"17%\">\n",
    "</colgroup>\n",
    "<thead valign=\"bottom\">\n",
    "<tr class=\"row-odd\"><th class=\"head\">Operation</th>\n",
    "<th class=\"head\">Syntax</th>\n",
    "<th class=\"head\">Result</th>\n",
    "</tr>\n",
    "</thead>\n",
    "<tbody valign=\"top\">\n",
    "<tr class=\"row-even\"><td>Select column</td>\n",
    "<td><code><span class=\"pre\">df[col]</span></code></td>\n",
    "<td>Series</td>\n",
    "</tr>\n",
    "<tr class=\"row-odd\"><td>Select row by label</td>\n",
    "<td><code><span class=\"pre\">df.loc[label]</span></code></td>\n",
    "<td>Series</td>\n",
    "</tr>\n",
    "<tr class=\"row-even\"><td>Select row by integer location</td>\n",
    "<td><code><span class=\"pre\">df.iloc[loc]</span></code></td>\n",
    "<td>Series</td>\n",
    "</tr>\n",
    "<tr class=\"row-odd\"><td>Slice rows</td>\n",
    "<td><code><span class=\"pre\">df[5:10]</span></code></td>\n",
    "<td>DataFrame</td>\n",
    "</tr>\n",
    "<tr class=\"row-even\"><td>Select rows by boolean vector</td>\n",
    "<td><code><span class=\"pre\">df[bool_vec]</span></code></td>\n",
    "<td>DataFrame</td>\n",
    "</tr>\n",
    "</tbody>\n",
    "</table>"
   ]
  },
  {
   "cell_type": "code",
   "execution_count": 42,
   "metadata": {
    "slideshow": {
     "slide_type": "subslide"
    }
   },
   "outputs": [
    {
     "data": {
      "text/plain": [
       "Transaction_date\n",
       "1/02/2009 06:17    1200\n",
       "1/02/2009 04:53    1200\n",
       "1/02/2009 13:08    1200\n",
       "Name: Price, dtype: object"
      ]
     },
     "execution_count": 42,
     "metadata": {},
     "output_type": "execute_result"
    }
   ],
   "source": [
    "df['Price'][0:3] #get the column"
   ]
  },
  {
   "cell_type": "code",
   "execution_count": 43,
   "metadata": {
    "slideshow": {
     "slide_type": "subslide"
    }
   },
   "outputs": [
    {
     "data": {
      "text/plain": [
       "Product                                Product1\n",
       "Price                                      1200\n",
       "Payment_Type                         Mastercard\n",
       "Name                          Federica e Andrea\n",
       "City               Astoria                     \n",
       "State                                        OR\n",
       "Country                           United States\n",
       "Account_Created                 1/01/2009 16:21\n",
       "Last_Login                      1/03/2009 12:32\n",
       "Latitude                                46.1881\n",
       "Longitude                               -123.83\n",
       "Name: 1/02/2009 13:08, dtype: object"
      ]
     },
     "execution_count": 43,
     "metadata": {},
     "output_type": "execute_result"
    }
   ],
   "source": [
    "# get one row\n",
    "df.loc['1/02/2009 13:08']"
   ]
  },
  {
   "cell_type": "code",
   "execution_count": 44,
   "metadata": {
    "slideshow": {
     "slide_type": "subslide"
    }
   },
   "outputs": [
    {
     "data": {
      "text/html": [
       "<div>\n",
       "<style scoped>\n",
       "    .dataframe tbody tr th:only-of-type {\n",
       "        vertical-align: middle;\n",
       "    }\n",
       "\n",
       "    .dataframe tbody tr th {\n",
       "        vertical-align: top;\n",
       "    }\n",
       "\n",
       "    .dataframe thead th {\n",
       "        text-align: right;\n",
       "    }\n",
       "</style>\n",
       "<table border=\"1\" class=\"dataframe\">\n",
       "  <thead>\n",
       "    <tr style=\"text-align: right;\">\n",
       "      <th></th>\n",
       "      <th>Product</th>\n",
       "      <th>Price</th>\n",
       "      <th>Payment_Type</th>\n",
       "      <th>Name</th>\n",
       "      <th>City</th>\n",
       "      <th>State</th>\n",
       "      <th>Country</th>\n",
       "      <th>Account_Created</th>\n",
       "      <th>Last_Login</th>\n",
       "      <th>Latitude</th>\n",
       "      <th>Longitude</th>\n",
       "    </tr>\n",
       "    <tr>\n",
       "      <th>Transaction_date</th>\n",
       "      <th></th>\n",
       "      <th></th>\n",
       "      <th></th>\n",
       "      <th></th>\n",
       "      <th></th>\n",
       "      <th></th>\n",
       "      <th></th>\n",
       "      <th></th>\n",
       "      <th></th>\n",
       "      <th></th>\n",
       "      <th></th>\n",
       "    </tr>\n",
       "  </thead>\n",
       "  <tbody>\n",
       "    <tr>\n",
       "      <th>1/02/2009 04:53</th>\n",
       "      <td>Product1</td>\n",
       "      <td>1200</td>\n",
       "      <td>Visa</td>\n",
       "      <td>Betina</td>\n",
       "      <td>Parkville</td>\n",
       "      <td>MO</td>\n",
       "      <td>United States</td>\n",
       "      <td>1/02/2009 04:42</td>\n",
       "      <td>1/02/2009 07:49</td>\n",
       "      <td>39.19500</td>\n",
       "      <td>-94.68194</td>\n",
       "    </tr>\n",
       "    <tr>\n",
       "      <th>1/02/2009 13:08</th>\n",
       "      <td>Product1</td>\n",
       "      <td>1200</td>\n",
       "      <td>Mastercard</td>\n",
       "      <td>Federica e Andrea</td>\n",
       "      <td>Astoria</td>\n",
       "      <td>OR</td>\n",
       "      <td>United States</td>\n",
       "      <td>1/01/2009 16:21</td>\n",
       "      <td>1/03/2009 12:32</td>\n",
       "      <td>46.18806</td>\n",
       "      <td>-123.83000</td>\n",
       "    </tr>\n",
       "  </tbody>\n",
       "</table>\n",
       "</div>"
      ],
      "text/plain": [
       "                   Product Price Payment_Type               Name  \\\n",
       "Transaction_date                                                   \n",
       "1/02/2009 04:53   Product1  1200         Visa             Betina   \n",
       "1/02/2009 13:08   Product1  1200   Mastercard  Federica e Andrea   \n",
       "\n",
       "                                          City State        Country  \\\n",
       "Transaction_date                                                      \n",
       "1/02/2009 04:53   Parkville                       MO  United States   \n",
       "1/02/2009 13:08   Astoria                         OR  United States   \n",
       "\n",
       "                  Account_Created       Last_Login  Latitude  Longitude  \n",
       "Transaction_date                                                         \n",
       "1/02/2009 04:53   1/02/2009 04:42  1/02/2009 07:49  39.19500  -94.68194  \n",
       "1/02/2009 13:08   1/01/2009 16:21  1/03/2009 12:32  46.18806 -123.83000  "
      ]
     },
     "execution_count": 44,
     "metadata": {},
     "output_type": "execute_result"
    }
   ],
   "source": [
    "df.iloc[1:3]"
   ]
  },
  {
   "cell_type": "markdown",
   "metadata": {
    "slideshow": {
     "slide_type": "slide"
    }
   },
   "source": [
    "## Selecting Data\n",
    "\n",
    "* Pandas supports a wide range of operations on DataFrames and Series to select data\n",
    "* Can be similar in power to database operations\n",
    "* Eg. select rows for one value of some column"
   ]
  },
  {
   "cell_type": "code",
   "execution_count": 45,
   "metadata": {
    "slideshow": {
     "slide_type": "fragment"
    }
   },
   "outputs": [
    {
     "data": {
      "text/html": [
       "<div>\n",
       "<style scoped>\n",
       "    .dataframe tbody tr th:only-of-type {\n",
       "        vertical-align: middle;\n",
       "    }\n",
       "\n",
       "    .dataframe tbody tr th {\n",
       "        vertical-align: top;\n",
       "    }\n",
       "\n",
       "    .dataframe thead th {\n",
       "        text-align: right;\n",
       "    }\n",
       "</style>\n",
       "<table border=\"1\" class=\"dataframe\">\n",
       "  <thead>\n",
       "    <tr style=\"text-align: right;\">\n",
       "      <th></th>\n",
       "      <th>Product</th>\n",
       "      <th>Price</th>\n",
       "      <th>Payment_Type</th>\n",
       "      <th>Name</th>\n",
       "      <th>City</th>\n",
       "      <th>State</th>\n",
       "      <th>Country</th>\n",
       "      <th>Account_Created</th>\n",
       "      <th>Last_Login</th>\n",
       "      <th>Latitude</th>\n",
       "      <th>Longitude</th>\n",
       "    </tr>\n",
       "    <tr>\n",
       "      <th>Transaction_date</th>\n",
       "      <th></th>\n",
       "      <th></th>\n",
       "      <th></th>\n",
       "      <th></th>\n",
       "      <th></th>\n",
       "      <th></th>\n",
       "      <th></th>\n",
       "      <th></th>\n",
       "      <th></th>\n",
       "      <th></th>\n",
       "      <th></th>\n",
       "    </tr>\n",
       "  </thead>\n",
       "  <tbody>\n",
       "    <tr>\n",
       "      <th>1/02/2009 04:53</th>\n",
       "      <td>Product1</td>\n",
       "      <td>1200</td>\n",
       "      <td>Visa</td>\n",
       "      <td>Betina</td>\n",
       "      <td>Parkville</td>\n",
       "      <td>MO</td>\n",
       "      <td>United States</td>\n",
       "      <td>1/02/2009 04:42</td>\n",
       "      <td>1/02/2009 07:49</td>\n",
       "      <td>39.195000</td>\n",
       "      <td>-94.68194</td>\n",
       "    </tr>\n",
       "    <tr>\n",
       "      <th>1/03/2009 14:44</th>\n",
       "      <td>Product1</td>\n",
       "      <td>1200</td>\n",
       "      <td>Visa</td>\n",
       "      <td>Gouya</td>\n",
       "      <td>Echuca</td>\n",
       "      <td>Victoria</td>\n",
       "      <td>Australia</td>\n",
       "      <td>9/25/05 21:13</td>\n",
       "      <td>1/03/2009 14:22</td>\n",
       "      <td>-36.133333</td>\n",
       "      <td>144.75000</td>\n",
       "    </tr>\n",
       "    <tr>\n",
       "      <th>1/04/2009 12:56</th>\n",
       "      <td>Product2</td>\n",
       "      <td>3600</td>\n",
       "      <td>Visa</td>\n",
       "      <td>Gerd W</td>\n",
       "      <td>Cahaba Heights</td>\n",
       "      <td>AL</td>\n",
       "      <td>United States</td>\n",
       "      <td>11/15/08 15:47</td>\n",
       "      <td>1/04/2009 12:45</td>\n",
       "      <td>33.520560</td>\n",
       "      <td>-86.80250</td>\n",
       "    </tr>\n",
       "  </tbody>\n",
       "</table>\n",
       "</div>"
      ],
      "text/plain": [
       "                   Product Price Payment_Type     Name  \\\n",
       "Transaction_date                                         \n",
       "1/02/2009 04:53   Product1  1200         Visa   Betina   \n",
       "1/03/2009 14:44   Product1  1200         Visa    Gouya   \n",
       "1/04/2009 12:56   Product2  3600         Visa  Gerd W    \n",
       "\n",
       "                                          City     State        Country  \\\n",
       "Transaction_date                                                          \n",
       "1/02/2009 04:53   Parkville                           MO  United States   \n",
       "1/03/2009 14:44                         Echuca  Victoria      Australia   \n",
       "1/04/2009 12:56   Cahaba Heights                      AL  United States   \n",
       "\n",
       "                  Account_Created       Last_Login   Latitude  Longitude  \n",
       "Transaction_date                                                          \n",
       "1/02/2009 04:53   1/02/2009 04:42  1/02/2009 07:49  39.195000  -94.68194  \n",
       "1/03/2009 14:44     9/25/05 21:13  1/03/2009 14:22 -36.133333  144.75000  \n",
       "1/04/2009 12:56    11/15/08 15:47  1/04/2009 12:45  33.520560  -86.80250  "
      ]
     },
     "execution_count": 45,
     "metadata": {},
     "output_type": "execute_result"
    }
   ],
   "source": [
    "#df[df['Payment_Type'] == 'Visa'].iloc[:3]\n",
    "\n",
    "df[df['Payment_Type'] == 'Visa'].iloc[:3]"
   ]
  },
  {
   "cell_type": "markdown",
   "metadata": {
    "slideshow": {
     "slide_type": "slide"
    }
   },
   "source": [
    "## Plotting\n",
    "\n",
    "* Pandas has some simple options for [plotting data](http://pandas.pydata.org/pandas-docs/stable/visualization.html)\n",
    "* The `.plot()` method will generate a default line graph of numerical columns\n",
    "* Other methods for scatter plots, bar charts etc."
   ]
  },
  {
   "cell_type": "code",
   "execution_count": 46,
   "metadata": {
    "slideshow": {
     "slide_type": "slide"
    }
   },
   "outputs": [
    {
     "data": {
      "text/plain": [
       "<matplotlib.axes._subplots.AxesSubplot at 0x7fbc1ab1e6a0>"
      ]
     },
     "execution_count": 46,
     "metadata": {},
     "output_type": "execute_result"
    },
    {
     "data": {
      "image/png": "[encoded data removed]",
      "text/plain": [
       "<Figure size 432x288 with 1 Axes>"
      ]
     },
     "metadata": {
      "needs_background": "light"
     },
     "output_type": "display_data"
    }
   ],
   "source": [
    "%matplotlib inline \n",
    "ds1 = pd.read_csv(\"files/ds1.csv\")\n",
    "ds1.plot()"
   ]
  },
  {
   "cell_type": "code",
   "execution_count": 47,
   "metadata": {
    "slideshow": {
     "slide_type": "slide"
    }
   },
   "outputs": [
    {
     "data": {
      "text/plain": [
       "<matplotlib.axes._subplots.AxesSubplot at 0x7fbc192722b0>"
      ]
     },
     "execution_count": 47,
     "metadata": {},
     "output_type": "execute_result"
    },
    {
     "data": {
      "image/png": "[encoded data removed]",
      "text/plain": [
       "<Figure size 432x288 with 1 Axes>"
      ]
     },
     "metadata": {
      "needs_background": "light"
     },
     "output_type": "display_data"
    }
   ],
   "source": [
    "ds1.plot.scatter(x=\"x\", y=\"y\")"
   ]
  },
  {
   "cell_type": "code",
   "execution_count": 48,
   "metadata": {
    "slideshow": {
     "slide_type": "slide"
    }
   },
   "outputs": [
    {
     "name": "stdout",
     "output_type": "stream",
     "text": [
      "[-1.30607981e+00 -1.14252935e+00  3.26288436e-02  5.71825975e-01\n",
      "  1.19035248e+00 -3.72764250e-01 -1.80846495e+00 -1.09618567e-01\n",
      " -6.57686440e-01  1.02503811e-01 -2.20918993e+00 -1.01076368e+00\n",
      " -1.49809066e+00  3.51472476e-01 -3.73561606e-01  8.69667256e-01\n",
      " -1.12163925e+00 -1.07742062e+00 -4.73645998e-01  2.07947332e-01\n",
      "  4.83520888e-01 -4.23002502e-01  3.36243864e-01  1.27166332e+00\n",
      "  5.93642210e-01  1.63018013e+00  2.04840517e+00 -1.56382398e+00\n",
      " -1.29248711e+00 -1.40973954e+00 -1.18045950e+00  4.93498949e-01\n",
      "  6.25910829e-01 -3.48510999e-01 -6.40595273e-01 -2.34071645e-01\n",
      " -4.38391525e-01 -3.87960428e-01  2.01835883e-01 -8.89388138e-01\n",
      " -5.76292259e-01  4.60437653e-01  7.50187898e-01  4.12142138e-01\n",
      " -6.90032272e-02  1.18466526e-01  1.61361717e+00 -2.98747771e-01\n",
      "  5.70613899e-01 -1.93583623e+00  9.75871585e-01  5.71055029e-01\n",
      " -1.03085343e+00 -2.87311970e-01 -8.13140002e-01 -3.87218564e-01\n",
      "  1.83579456e+00 -4.39343035e-01 -9.49189533e-01  1.26507767e+00\n",
      " -1.34941067e+00  9.77851106e-01  1.76488319e+00 -6.10152666e-01\n",
      "  9.77663804e-01 -9.84264592e-01  5.43182423e-01  1.41649089e-01\n",
      "  1.30543265e+00 -8.14490841e-01 -1.57718091e-01 -3.40463699e-01\n",
      " -9.56751851e-01 -1.45746030e+00 -2.22195703e+00 -1.24226562e+00\n",
      "  1.43840657e+00  1.56410801e-01  5.64283546e-01  3.07490655e-01\n",
      " -9.06448630e-01 -3.36119112e-01  2.09063531e+00 -5.23508542e-01\n",
      "  3.59420512e-01 -6.73560098e-01 -1.44444468e-01  1.16561798e+00\n",
      "  1.85012453e-01  1.78514480e-01  1.39932777e-01  8.64285305e-01\n",
      "  1.50211284e+00 -9.92998070e-01  4.01912607e-02 -9.30861783e-01\n",
      " -1.47675154e-01  1.01950312e+00 -1.30991046e-02  1.64503499e+00\n",
      " -5.34727335e-01  7.67344812e-01  1.54523363e+00 -1.21081871e+00\n",
      "  1.80460947e-01  1.63974064e-01  7.69305187e-03  1.39013296e+00\n",
      " -1.24760826e+00  3.05634355e-01 -1.97123374e-01 -1.72709064e+00\n",
      " -1.29383013e+00 -1.03941942e+00 -1.14105535e+00 -1.17306464e+00\n",
      " -5.80661922e-01  4.21643851e-01  9.27526395e-01 -3.82002763e-01\n",
      " -4.51278772e-01 -1.75494376e+00 -1.84665519e-01  5.24454968e-01\n",
      " -1.87073488e+00 -1.00727470e+00 -5.14778137e-01 -1.59704214e-01\n",
      "  6.07961075e-01  1.60947854e+00  8.25752188e-01 -6.60335739e-01\n",
      " -1.06183359e+00 -1.40672822e-01 -5.00250956e-01 -4.36997572e-01\n",
      "  2.52057159e-01  3.81800721e-01  1.01894610e+00 -9.48606209e-01\n",
      " -5.66037656e-01 -9.76643879e-03 -9.81606406e-01  1.67940480e+00\n",
      "  5.23422598e-01 -2.09585503e-02  8.77834274e-01  1.06364349e+00\n",
      " -3.85435924e-02  1.28685547e+00 -5.06607106e-01 -7.01992769e-01\n",
      " -1.05841072e+00  1.52359093e+00  1.16562077e+00  4.11264784e-02\n",
      "  1.55205566e+00 -1.57768968e+00  1.51585163e+00 -4.32643710e-01\n",
      " -7.43617903e-01  7.66496502e-01  1.66745835e+00 -9.03706426e-01\n",
      "  1.98043185e+00 -7.14899333e-01  2.15524842e-01 -3.35641154e-01\n",
      "  8.21659424e-01 -3.21705492e-01 -1.27258286e+00 -1.00457497e+00\n",
      " -3.89067792e-01 -1.14513677e-01  1.15720836e+00  1.20527271e+00\n",
      "  5.78034348e-02 -5.31458331e-01 -9.77536036e-01 -2.06733642e-01\n",
      " -2.08323963e+00  1.63222446e+00 -4.31702906e-01 -1.79117104e-01\n",
      " -1.23696351e+00  1.07663149e+00 -1.09074969e+00 -6.78721223e-01\n",
      " -5.40188852e-01 -5.11628149e-01  6.52010755e-01  7.73072288e-01\n",
      "  2.94354206e+00  9.40591047e-01 -5.87584308e-01 -1.47235243e+00\n",
      "  1.92709404e-01  1.22660671e+00 -8.90814138e-02 -1.24366570e+00\n",
      "  3.44703807e-01 -1.89104559e-01 -6.87086040e-01 -8.06916790e-01\n",
      "  4.31759540e-01  5.87210035e-02 -2.26904647e-01 -4.01612025e-01\n",
      "  4.84956429e-02  1.02870579e+00 -1.50643029e+00  6.70857745e-04\n",
      " -1.19068320e+00  7.59701155e-01 -1.30935989e+00  1.86877025e+00\n",
      " -1.19037625e+00  1.79294194e+00  3.13858162e-01  2.92985519e-02\n",
      " -1.97295600e-01  3.74022773e-01  8.31400222e-01  1.39058872e+00\n",
      "  9.03991014e-01  3.15526291e-01  2.96845219e-01  1.00688397e-01\n",
      "  8.50611895e-02  6.76803783e-01 -3.56277671e-01 -1.02281179e+00\n",
      "  9.15026394e-02  1.59041882e+00  2.64618945e-02 -1.42478058e+00\n",
      " -4.35937831e-01 -1.46919699e-01  3.69091398e-01  1.06292444e+00\n",
      " -6.06951225e-01 -1.88550664e+00  1.83120754e+00  7.21040677e-02\n",
      "  5.27755491e-01  6.78384571e-01 -3.29460246e-01  1.33595741e+00\n",
      " -1.10609370e+00 -8.51384677e-01 -3.07559474e-01  1.08308008e+00\n",
      "  1.27555893e+00  1.21422154e+00 -2.70964578e-01  3.45231887e-01\n",
      " -1.02582177e+00  9.68052451e-01  1.47290800e-02  3.61967294e-04\n",
      "  5.89786997e-01  2.89973574e-01 -2.79204532e-01 -1.15646329e-01\n",
      "  5.35289908e-01  1.76232545e+00 -2.91944014e+00  8.19416648e-01\n",
      "  6.69005278e-01 -8.12503322e-01 -2.66946710e+00 -1.19328947e+00\n",
      " -6.21432544e-02  1.35316197e+00 -5.41838205e-01 -1.38402951e+00\n",
      " -1.20396507e+00  1.87700574e-01 -6.87556905e-01  8.03914460e-01\n",
      " -3.44226191e-01 -1.11170130e+00  1.52913213e+00 -1.44812644e+00\n",
      " -6.52222847e-01 -1.25190180e+00  2.49840310e-01 -1.15391468e+00\n",
      " -3.34376959e-01  9.72301382e-04 -1.13873690e+00  3.48530359e-01\n",
      " -4.28876534e-01 -1.29650203e-01 -2.15734595e-01 -1.10847659e+00\n",
      "  9.88677993e-01 -2.31935461e-02 -1.73740951e+00 -8.78409326e-01\n",
      "  5.71876751e-01 -1.06239011e+00  5.86438331e-01  1.29436972e+00\n",
      " -1.51989448e+00  1.34802129e+00  8.37332409e-01 -1.46719518e+00\n",
      " -1.65313874e-01  1.88601763e+00 -1.58349233e+00  1.25954759e+00\n",
      "  5.07149143e-01 -2.07610633e-01 -3.41634464e-01  4.65550111e-01\n",
      " -5.67992693e-01 -4.43313291e-01  5.82322783e-01  9.65874436e-01\n",
      "  1.20749751e+00 -2.13850284e-01  1.74667650e+00 -7.06033276e-02\n",
      "  3.07141186e-01  5.45874107e-01  2.57139881e-01  1.17706298e+00\n",
      " -5.75072259e-02 -2.26425123e+00 -4.32860913e-01 -7.54298209e-01\n",
      "  1.20379745e+00 -3.61626135e-01  7.02183300e-01  1.81591513e-04\n",
      "  2.00407692e+00  8.42185855e-01  1.23265986e-02 -5.56292622e-01\n",
      " -5.57725360e-01  5.72918542e-01 -1.97668510e+00  3.26154571e-01\n",
      " -8.79000459e-01 -2.96223730e-01 -4.85810038e-01 -3.52468016e-01\n",
      " -9.79420888e-01 -2.25379577e-01  1.35606759e+00  9.02205465e-01\n",
      " -1.60314329e+00  5.96678694e-01 -4.38103398e-01  2.27257070e-01\n",
      "  1.60064812e+00 -8.96896190e-01 -9.43655130e-01  2.57275898e-01\n",
      " -1.06750271e+00  2.03246888e-01  1.66830230e+00  2.16237402e-01\n",
      "  4.78562388e-01  1.18964169e+00 -6.60562688e-01  8.77025456e-01\n",
      "  6.15984959e-01 -5.03258894e-01 -1.30646239e+00 -6.08826927e-01\n",
      " -1.35951718e+00  3.88640421e-01  8.37923431e-01 -1.11350174e+00\n",
      " -7.77372225e-01  6.69892148e-01 -1.79734433e-02  1.54211345e+00\n",
      "  5.82309835e-01  6.19485600e-01  1.80416983e+00  4.97392515e-01\n",
      " -1.15605779e+00 -1.58589768e+00  1.73403650e+00 -8.85668204e-02\n",
      "  1.93659376e-01  1.52532423e+00  8.75873110e-01  4.43559062e-01\n",
      "  8.64644624e-01  2.12201066e-01  4.53337529e-01  1.08928545e-01\n",
      "  1.03381701e+00  5.44203110e-02  1.04187652e+00 -1.63253185e-01\n",
      "  3.88709612e-02  6.11151916e-01 -9.87093457e-01  4.00541066e-01\n",
      " -1.79135440e+00 -2.40618939e+00  7.42606511e-01 -7.85572346e-02\n",
      " -9.86128318e-01  1.57224328e-03  4.79721329e-01 -1.45525496e+00\n",
      " -1.03277555e+00 -5.80842750e-01  2.42837566e+00 -2.44612362e-01\n",
      " -1.68820668e+00  9.95186068e-01 -6.64141421e-01  1.70041871e+00\n",
      " -5.09356554e-01  7.63549408e-01 -1.14067218e+00  7.96823156e-01\n",
      "  6.96655096e-01  1.34143495e+00  5.28571487e-01 -2.82303277e-01\n",
      "  1.62944480e+00  6.04316023e-01 -5.62038380e-01 -5.35137136e-01\n",
      " -9.37274095e-01 -3.55774473e-01  7.08531175e-02  1.26138338e+00\n",
      " -3.24743494e-01  1.13208956e+00 -5.32395518e-01 -1.60138167e+00\n",
      " -2.55329762e-02  1.83403427e+00  1.03033526e+00 -6.13342351e-01\n",
      " -6.48658710e-01 -9.03381499e-01  1.25153940e+00  1.11880794e+00\n",
      " -3.90207245e-01  8.00401606e-02 -2.83072337e+00 -1.24586548e+00\n",
      "  8.16306929e-01 -8.02198293e-01 -1.30142701e-01  1.50520559e+00\n",
      "  6.72797933e-01 -7.49340256e-01  3.58691786e-01 -1.12506600e+00\n",
      " -1.44553423e+00  7.57419646e-01  6.19057460e-01  6.95440071e-02\n",
      "  9.04744349e-01  1.31763761e+00 -1.06638943e+00 -2.03583717e-01\n",
      "  1.11515869e+00  5.16392576e-01  1.68769932e+00  9.43392807e-01\n",
      "  7.77625135e-01 -7.34164862e-01 -1.39575199e+00 -3.09848843e-01\n",
      "  7.25029233e-01 -5.70034239e-01 -1.69818979e+00 -2.68166051e+00\n",
      "  3.12345482e-01  9.30701332e-01 -5.52176181e-01  7.48156986e-01\n",
      "  1.30492428e+00  1.07265856e+00 -4.73998699e-01  2.94851031e-01\n",
      " -5.58736241e-02  3.51169195e-01  1.07975849e+00  6.99991628e-01\n",
      "  1.63883112e+00  1.79498439e-01  1.58068572e+00 -3.92095544e-01\n",
      " -6.86768681e-01 -6.77758845e-01 -4.77662618e-01  9.96092463e-02\n",
      "  2.62177680e-01 -1.14566534e+00 -3.45905723e-02  9.84140363e-01\n",
      " -7.88155662e-01  1.45242966e+00  9.33448924e-01  8.15454961e-01\n",
      "  2.21710690e+00  6.50229627e-01  8.40883181e-01 -7.99623479e-01\n",
      "  6.77759832e-01 -2.10302899e+00  9.69711928e-01 -6.59629010e-01\n",
      "  3.03426716e-01  2.11940683e+00  2.12226782e+00 -2.35856497e-01\n",
      " -2.10537284e+00  9.81692194e-01  5.74707027e-01  2.77579858e-02\n",
      "  1.40133203e+00  8.60631146e-01  1.81592172e-01  1.96440074e+00\n",
      " -1.00872139e+00  1.23011894e+00  1.24794801e+00  1.07994614e+00\n",
      " -4.68740802e-01 -1.18189206e+00  4.65367636e-02  9.95916835e-01\n",
      "  1.33055250e+00  7.81703054e-01  1.00380093e+00 -1.14842554e+00\n",
      " -9.11913778e-01  4.33365914e-01 -1.76167478e+00 -2.30023031e-01\n",
      "  5.46027436e-01 -3.52496754e-02 -1.83479129e-01 -2.69211439e-01\n",
      " -3.55053731e-01  2.82833940e-01  5.32465166e-01  6.85346196e-01\n",
      "  7.90371742e-01 -7.07685232e-01  9.92479735e-01  1.04762829e-01\n",
      "  5.57397719e-02  1.09493482e+00  1.51123287e-01 -1.25900610e+00\n",
      "  1.06992399e-02 -8.46950958e-01 -1.74379171e-01  1.15584830e+00\n",
      " -2.98548387e+00 -5.55823833e-01 -1.56883999e+00 -4.12183510e-01\n",
      " -1.60635235e+00  2.15973326e+00 -1.96404568e-01 -3.33389939e-01\n",
      " -1.09319520e+00 -1.06133636e+00  2.47625959e-01  1.09277651e+00\n",
      "  7.80014332e-01  3.66596365e-01  5.61473483e-01 -2.95496036e-01\n",
      " -5.72948734e-01  1.95924815e+00  1.43560408e+00 -6.80264847e-01\n",
      " -7.94022082e-01  1.50464116e+00  9.22998653e-01  1.98377991e-01\n",
      " -1.43764223e+00 -9.43972748e-01  4.80073482e-01  1.56793392e+00\n",
      " -1.00676263e-01 -9.62549470e-01  7.90367692e-02  7.07414886e-01\n",
      " -8.30033847e-01  1.17776893e+00 -1.30126914e-01  1.85871057e+00\n",
      " -1.34707360e+00  8.47360827e-01 -3.51078997e-01  1.28117354e+00\n",
      " -1.46022616e+00  9.85672738e-02 -4.36666044e-02  5.36067407e-01\n",
      "  1.16306088e+00 -1.55440298e-01 -2.72095179e-01  1.05795254e+00\n",
      " -2.36375990e-01  1.73887889e+00 -2.02904667e-01  1.21504686e+00\n",
      "  6.19097167e-01 -4.97440920e-02  7.36967941e-01 -1.68571333e+00\n",
      "  1.03347066e-02 -6.25876758e-01 -6.94603894e-01 -1.64898761e+00\n",
      " -1.40843474e+00 -3.95519947e-01  3.17383939e-03 -9.76288118e-03\n",
      "  4.64256467e-02  2.13256631e+00  7.54273189e-01  7.63678244e-01\n",
      "  1.53994202e-01  2.79955187e+00 -1.40644195e+00  5.19266977e-02\n",
      " -1.24794680e+00  1.54242939e-01 -1.79566324e+00 -2.93655386e-01\n",
      "  6.07602520e-01 -3.21627088e-01  1.20410644e+00 -1.29713967e+00\n",
      " -1.57843229e+00  1.16506491e+00  1.98370742e-01 -3.56253850e-01\n",
      " -1.89421288e-01  4.67445602e-01  3.37315762e-01  3.24813984e-01\n",
      " -4.03939504e-01 -3.10915949e-01 -1.61997574e+00  6.10620062e-01\n",
      " -1.78205057e-01 -2.27513540e+00 -5.59540052e-01 -1.00037494e+00\n",
      "  1.63854039e+00  6.08296423e-01  5.29163299e-01 -4.44000266e-01\n",
      " -9.10520761e-01  1.35111191e+00 -2.56073206e+00  1.27383217e+00\n",
      "  1.05577058e-01 -2.67139606e-01 -3.39512437e-01  1.01259089e-01\n",
      "  3.15023949e-01 -1.47224207e-01 -8.78583510e-02  5.05943910e-02\n",
      " -1.21792636e+00 -1.65396670e+00 -6.35651167e-02 -1.25590214e+00\n",
      " -1.18770331e+00 -6.86148958e-01  1.36224723e+00 -1.06134016e-01\n",
      " -1.45330857e+00 -7.91599923e-01  7.94159011e-02  8.78524515e-01\n",
      " -5.23284788e-01 -2.25202816e-01  9.71256717e-02 -3.00033716e-01\n",
      " -2.85306056e-01  9.27932927e-01 -5.51683462e-01  1.63806660e-01\n",
      "  5.25580092e-01  1.75438813e-01  9.43219215e-01 -8.95274589e-01\n",
      " -4.51148935e-01  8.15399911e-01  1.56544065e+00  1.91807789e+00\n",
      " -1.60393440e+00  5.55859301e-01  4.29496171e-01  4.04328289e-01\n",
      "  7.95539897e-01 -5.09971717e-01  7.18629959e-01 -6.99474304e-01\n",
      " -8.37675727e-03 -2.09076586e+00  8.45355462e-01  4.15478740e-01\n",
      "  1.58166880e-01 -7.66837858e-01  6.52174655e-01  1.04116476e+00\n",
      "  2.28695534e-01  1.59666549e+00 -1.71471629e+00 -9.22465022e-02\n",
      "  1.33065151e-01  9.53047582e-02  7.07818857e-01  2.79600596e-01\n",
      " -5.66466198e-01  1.41220052e+00  3.65022671e+00  3.26677386e-01\n",
      " -6.68986848e-01 -1.37860800e+00 -2.56176570e-01 -3.94516409e-01\n",
      "  4.91701485e-02  1.27560088e-01  2.57488433e+00  9.87273479e-01\n",
      "  5.67255909e-01  3.09479956e-01  1.28743770e+00 -6.94991012e-01\n",
      "  8.87678294e-01 -1.89714182e-02 -1.68307159e+00 -1.22427746e+00\n",
      " -2.60110611e-01  5.99919391e-01  1.18539076e+00  1.75456363e+00\n",
      "  3.22611112e-01 -4.77892956e-01  3.52374676e-01  1.72392324e+00\n",
      " -3.45353180e-01  3.22023174e-01 -1.05793966e-01 -2.88514954e-02\n",
      " -1.36703971e-01 -1.94002233e-01  3.57691448e-01 -7.65444735e-01\n",
      "  8.64575464e-01  6.91363106e-01  1.50967691e+00  4.49532287e-01\n",
      "  7.11392856e-01 -3.51775482e-01 -1.51525519e+00  9.45477194e-01\n",
      "  1.45560869e-01 -5.74151901e-01 -6.35605832e-01  1.10160918e+00\n",
      "  2.21445756e-01  9.67061889e-01 -1.33227192e+00  6.21250144e-01\n",
      " -1.24498954e+00  1.44984228e-01 -2.33349738e-01 -1.57187051e+00\n",
      " -7.27581159e-02 -8.26559953e-01 -2.12778721e+00  4.41423821e-01\n",
      "  1.15490162e+00  9.58826021e-01  7.39209716e-02  6.48670856e-01\n",
      " -4.58082040e-01 -8.59277874e-01  5.55192966e-01  3.91654499e-01\n",
      " -1.01166876e+00 -2.64728993e-01 -3.99501055e-01 -2.29847667e-01\n",
      "  8.60443978e-01 -1.54606601e+00  1.51552998e-01  3.81824328e-02\n",
      "  1.15766217e+00 -1.00475243e-01  3.15482800e-01  9.98416958e-01\n",
      " -1.82668650e+00 -3.99228145e-02  1.41496309e+00  4.49955063e-01\n",
      " -2.06608545e+00  1.24124201e-02 -6.37865218e-01  1.80600210e-02\n",
      " -9.72997210e-01  4.72210298e-02 -1.64471590e+00  6.62846501e-01\n",
      " -1.81443590e-03  6.25088782e-01  2.53478216e-01  1.62533435e+00\n",
      " -1.89874183e+00 -1.32602362e+00  1.89379984e-01 -9.42796840e-01\n",
      "  8.27505829e-01  1.51402031e+00 -1.59882503e-01  9.31359089e-01\n",
      " -7.71837633e-01 -9.59222910e-01 -9.46967680e-02  8.36931255e-01\n",
      " -1.48604721e+00  5.81362789e-01  4.34127992e-01  1.11112610e+00\n",
      "  1.64346545e+00 -4.74789769e-02 -1.17821855e-01  6.64887603e-02\n",
      "  6.46938649e-01  5.52836702e-01 -1.98294244e+00 -1.58497499e+00\n",
      "  5.42164152e-04  3.47032766e-01 -9.64451299e-01  2.30705278e+00\n",
      " -6.86095864e-01 -9.56890724e-01 -5.03026661e-01 -4.90204491e-01\n",
      " -1.53393677e+00  2.78069934e-02 -1.02117087e+00 -4.33992455e-02\n",
      " -6.55377767e-01  1.96257823e-01 -2.51103985e-01  1.06695873e+00\n",
      "  1.50995359e+00  3.80078343e-01 -7.95227316e-01  3.52772929e-01\n",
      "  5.70094790e-01 -7.10915880e-01 -7.43152592e-01  5.02220782e-01\n",
      " -1.19887434e+00  1.74637841e-01  9.02807972e-01  4.13764272e-01\n",
      " -2.71229416e-01 -1.85933706e+00  1.93521171e+00  4.52620367e-01\n",
      "  1.58906769e+00 -1.75209116e+00  9.31623206e-01  1.90396460e+00\n",
      " -2.31154021e+00  1.09271008e+00 -2.84646685e-01  9.11795811e-01\n",
      "  3.52772378e-03  9.85242978e-01  1.97165458e-01  1.39207981e+00\n",
      "  4.22106954e-01 -7.91629138e-01  2.97241937e-01 -9.61886576e-01\n",
      "  1.79668207e+00 -2.29882885e-01 -8.95698724e-01  1.11015640e-01\n",
      " -4.50222836e-01 -1.01494170e+00 -2.80330002e-01  3.76389942e-01\n",
      "  1.35873546e+00 -3.37880134e-01 -1.46160612e+00  1.20154632e-01\n",
      "  2.49974279e-01  5.00349966e-01 -2.74408876e-01  1.61841016e+00\n",
      "  1.11729746e-01 -2.07403686e-02 -6.84320826e-01 -5.69701196e-01\n",
      "  1.43905362e+00 -5.31734001e-01  9.27333606e-01  1.46078421e+00\n",
      " -3.83907217e-01 -6.30445677e-01 -2.74885551e-01 -1.47019561e+00\n",
      " -1.31306992e-01  1.14160417e+00  7.86458672e-01  1.20841060e+00\n",
      " -2.91453099e-01 -1.99125052e-01 -4.59083274e-01  1.22548044e+00\n",
      " -1.19870473e+00  1.05137902e+00 -1.29578176e+00 -1.11933423e+00\n",
      "  1.01645742e+00 -1.37580163e+00 -5.99270127e-01 -4.79905742e-01\n",
      "  3.85454104e-01  4.20136253e-01 -1.17352635e+00  5.92388198e-02\n",
      " -5.55481037e-01  3.05304044e-01  3.44744060e-01  2.22556866e-01\n",
      "  6.79219898e-01  1.15177684e+00  4.72844987e-01  2.00503027e-01\n",
      " -6.96991804e-01 -5.08884037e-01  6.23733707e-02  1.09141117e-01\n",
      " -1.41618821e+00 -5.34489959e-01 -1.18688681e+00  5.95378651e-01\n",
      "  2.02854012e-01 -1.11612013e+00  1.04134642e+00 -1.73556461e+00\n",
      "  9.28778164e-01 -1.06283710e+00  1.33848595e-02 -9.52095390e-01\n",
      " -7.27623235e-01  7.01566913e-01  9.61296517e-01 -6.41816485e-01\n",
      " -1.53431325e+00  7.98481318e-02 -8.23894363e-01 -8.30744301e-02\n",
      " -9.04667693e-02 -2.58216344e-01  2.47843485e-01  3.52058362e-01\n",
      " -4.21013509e-01 -1.02891194e-01 -4.91717177e-02  4.71108223e-01\n",
      " -1.31848437e+00 -8.52157748e-01  2.33893215e-01  6.53829540e-01\n",
      " -8.20405611e-01 -8.84582431e-03 -2.90016185e+00  5.31700078e-01\n",
      " -2.28762557e-01 -3.72471650e-01 -4.07019782e-01  5.37454483e-01\n",
      "  1.40023154e+00 -5.36686806e-01 -1.48352012e-01 -2.20919403e-01]\n"
     ]
    },
    {
     "data": {
      "text/plain": [
       "<matplotlib.axes._subplots.AxesSubplot at 0x7fbc1acf1b20>"
      ]
     },
     "execution_count": 48,
     "metadata": {},
     "output_type": "execute_result"
    },
    {
     "data": {
      "image/png": "[encoded data removed]",
      "text/plain": [
       "<Figure size 432x288 with 1 Axes>"
      ]
     },
     "metadata": {
      "needs_background": "light"
     },
     "output_type": "display_data"
    }
   ],
   "source": [
    "%matplotlib inline\n",
    "\n",
    "ts = pd.Series(np.random.randn(1000), index=pd.date_range('1/1/2000', periods=1000))\n",
    "print(np.random.randn(1000))\n",
    "ts = ts.cumsum() #Return the cumulative sum of the elements along a given axis.\n",
    "# plot, hist, \n",
    "ts.hist()"
   ]
  },
  {
   "cell_type": "code",
   "execution_count": 49,
   "metadata": {
    "scrolled": true,
    "slideshow": {
     "slide_type": "slide"
    }
   },
   "outputs": [
    {
     "data": {
      "text/plain": [
       "<matplotlib.axes._subplots.AxesSubplot at 0x7fbc1ae02f40>"
      ]
     },
     "execution_count": 49,
     "metadata": {},
     "output_type": "execute_result"
    },
    {
     "data": {
      "image/png": "[encoded data removed]",
      "text/plain": [
       "<Figure size 432x288 with 1 Axes>"
      ]
     },
     "metadata": {
      "needs_background": "light"
     },
     "output_type": "display_data"
    }
   ],
   "source": [
    "df2 = pd.DataFrame(np.random.rand(10, 4), columns=['a', 'b', 'c', 'd'])\n",
    "df2.plot.bar()"
   ]
  },
  {
   "cell_type": "markdown",
   "metadata": {
    "slideshow": {
     "slide_type": "slide"
    }
   },
   "source": [
    "# The End"
   ]
  }
 ],
 "metadata": {
  "celltoolbar": "Slideshow",
  "kernelspec": {
   "display_name": "Python 3",
   "language": "python",
   "name": "python3"
  },
  "language_info": {
   "codemirror_mode": {
    "name": "ipython",
    "version": 3
   },
   "file_extension": ".py",
   "mimetype": "text/x-python",
   "name": "python",
   "nbconvert_exporter": "python",
   "pygments_lexer": "ipython3",
   "version": "3.8.3"
  }
 },
 "nbformat": 4,
 "nbformat_minor": 2
}
