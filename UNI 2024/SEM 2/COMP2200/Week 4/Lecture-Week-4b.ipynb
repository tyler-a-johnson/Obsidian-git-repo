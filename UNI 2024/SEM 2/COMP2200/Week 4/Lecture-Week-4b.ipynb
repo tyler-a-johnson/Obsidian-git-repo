{
 "cells": [
  {
   "cell_type": "markdown",
   "metadata": {
    "slideshow": {
     "slide_type": "slide"
    }
   },
   "source": [
    "## Visualisation\n",
    "\n",
    "An exercise in critical analysis of data visualisation\n",
    "\n",
    "<a href=\"files/bad-graphs.png\"><img src=\"files/bad-graphs.png\" width=60%></a>\n",
    "\n",
    "For each of these graphs there is something wrong or some major criticism that has been made of the graph. Can you identify the issue(s) in each case? How would the graphs be improved? [source](http://www.statisticshowto.com/misleading-graphs/).\n",
    "\n"
   ]
  },
  {
   "cell_type": "markdown",
   "metadata": {
    "slideshow": {
     "slide_type": "slide"
    }
   },
   "source": [
    "## Good Graphs?\n",
    "\n",
    "<p><a href=\"https://commons.wikimedia.org/wiki/File:Minard.png#/media/File:Minard.png\"><img src=\"https://upload.wikimedia.org/wikipedia/commons/thumb/2/29/Minard.png/1200px-Minard.png\" alt=\"Minard.png\"></a><br>By <a href=\"https://en.wikipedia.org/wiki/Charles_Minard\" class=\"extiw\" title=\"w:Charles Minard\">Charles Minard</a> (1781-1870), Public Domain, <a href=\"https://commons.wikimedia.org/w/index.php?curid=297925\">Link</a></p>\n",
    "\n"
   ]
  },
  {
   "cell_type": "markdown",
   "metadata": {
    "slideshow": {
     "slide_type": "notes"
    }
   },
   "source": [
    "\n",
    "The above is a classic example of great data visualisation - originally from 1869, showing the devastation over the march of Napoleon towards defeat in Moscow and their return home.  This chart uses graphical design to tell a story, it combines the display of multi-dimensional data with a striking graphical layout.  \n",
    "\n",
    "We can perhaps aspire to creating visualisations as good as this but doing so would require a combination of great data handling skills and an eye for good visual design.  I expect you all to master the first of these but it might be too much to expect the latter from everyone.  Even so, we can all learn to appreciate what makes a good visualisation work and what we should avoid in presenting data. \n",
    "\n",
    "The [chapter I've recommended for reading](https://link.springer.com/content/pdf/10.1007%2F978-3-540-33037-0_3.pdf) on this gives a bit of an overview of what makes for good data visualisation. \n"
   ]
  },
  {
   "cell_type": "markdown",
   "metadata": {
    "slideshow": {
     "slide_type": "slide"
    }
   },
   "source": [
    "\n",
    "## Choice of Graphical Form\n",
    "\n",
    "### Scales\n",
    "- numerical scales, common to include zero, range of values can influence interpretation\n",
    "- in a histogram, the size of bins (granularity of the scale) can obscure or reveal insights\n",
    "- scales in related graphs should be comparable\n",
    "- for categorical variables (eg. names of cities) the ordering can be influential\n"
   ]
  },
  {
   "cell_type": "markdown",
   "metadata": {
    "slideshow": {
     "slide_type": "slide"
    }
   },
   "source": [
    "\n",
    "## Overlaying Information\n",
    "- eg. overlay of smoothed mean, indications of error bars\n",
    "- overlay should aid the interpretation of the data\n",
    "- take care not to obscure data with too many additions\n",
    "\n",
    "## Captions, Legends and Annotations\n",
    "- graphs should always have labelled axes, including units where appropriate\n",
    "- legends attach labels to different parts of the graph (colours, line styles), should be on the plot (Tufte)\n",
    "- annotations should be used sparingly (see overlays) eg. Figure 2.8\n"
   ]
  },
  {
   "cell_type": "markdown",
   "metadata": {
    "slideshow": {
     "slide_type": "slide"
    }
   },
   "source": [
    "\n",
    "## Apect Ratio\n",
    "- squashing a graph one way or the other can hugely distort the presentation (Figure 2.9)\n",
    "\n",
    "## Colour\n",
    "- use of colour should take account of colour blindness [palletes for colour blindness](http://mkweb.bcgsc.ca/colorblind/) [some examples and advice](http://www.dundas.com/support/blog/visualizing-for-the-color-blind)\n",
    "- certain colours have a cultural meaning that might effect how your graphics are interpreted\n"
   ]
  },
  {
   "cell_type": "markdown",
   "metadata": {
    "slideshow": {
     "slide_type": "slide"
    }
   },
   "source": [
    "\n",
    "## Multidimensional Visualisation\n",
    "- techniques for displaying more than a simple binary relationship\n",
    "- many variables influencing different aspects of the graphic\n",
    "- is a 3D plot ever a good idea?\n",
    "- scatterplot matrix shows how pairs of variables change together (Figure 2.10)\n",
    "- trellis display arranges related graphs in a grid (Figure 2.14)\n"
   ]
  },
  {
   "cell_type": "markdown",
   "metadata": {
    "slideshow": {
     "slide_type": "slide"
    }
   },
   "source": [
    "## Maps\n",
    "- overlaying data on maps allows you to associated data points with geographical areas\n",
    "- can be misleading since size of geographic region does not relate to population\n",
    "    - see [these cartograms](http://www-personal.umich.edu/~mejn/election/2016/) showing a method for scaling geographical areas based on population.\n",
    "\n",
    "\n",
    "[Data Vizualisation Chart Types](https://eazybi.com/blog/data_visualization_and_chart_types/) has a list of chart types with some ideas of when to use them. It includes a reference to [choosing a good chart](http://extremepresentation.typepad.com/files/choosing-a-good-chart-09.pdf) by Dr. Andrew Abela, a useful cheat sheet.\n"
   ]
  }
 ],
 "metadata": {
  "anaconda-cloud": {},
  "celltoolbar": "Slideshow",
  "kernelspec": {
   "display_name": "Python 3",
   "language": "python",
   "name": "python3"
  },
  "language_info": {
   "codemirror_mode": {
    "name": "ipython",
    "version": 3
   },
   "file_extension": ".py",
   "mimetype": "text/x-python",
   "name": "python",
   "nbconvert_exporter": "python",
   "pygments_lexer": "ipython3",
   "version": "3.8.3"
  }
 },
 "nbformat": 4,
 "nbformat_minor": 2
}
