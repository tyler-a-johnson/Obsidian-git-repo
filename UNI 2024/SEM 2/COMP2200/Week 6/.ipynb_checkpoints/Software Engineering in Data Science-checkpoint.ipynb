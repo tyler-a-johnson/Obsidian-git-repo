{
 "cells": [
  {
   "cell_type": "markdown",
   "metadata": {
    "slideshow": {
     "slide_type": "slide"
    }
   },
   "source": [
    "## Software Engineering and Data Science\n",
    "\n",
    "- Are notebooks a good idea?\n",
    "- If not, what is the alternative?\n",
    "- How can we write re-usable modules?\n",
    "- Managing dependencies\n",
    "- Testing in Data Science"
   ]
  },
  {
   "cell_type": "markdown",
   "metadata": {
    "slideshow": {
     "slide_type": "slide"
    }
   },
   "source": [
    "## Notebooks Considered Harmful\n",
    "- [I don't Like Notebooks](https://www.youtube.com/watch?v=7jiPeIFXb6U) by Joel Grus\n",
    "    - Out of order execution\n",
    "    - Discourage modularity and testing\n",
    "    - Don't provide help writing code\n",
    "    - Hinder reproducible and extensible Science\n",
    "- Some of these are interesting because they are suppposed to be advantages of notebooks"
   ]
  },
  {
   "cell_type": "markdown",
   "metadata": {
    "slideshow": {
     "slide_type": "slide"
    }
   },
   "source": [
    "## So why do we use them?\n",
    "- If notebooks are so bad, why do we (teach you to ) use them?\n",
    "- Web based interface is easy to work with\n",
    "- Interactive nature of notebooks easy to experiment\n",
    "- See the results of code immediately\n",
    "- Present analysis mixing code, text, data and graphs\n",
    "- Me: my slides can contain running code examples\n",
    "\n",
    "**Can we keep these advantages and avoid the harmful featues?**"
   ]
  },
  {
   "cell_type": "markdown",
   "metadata": {
    "slideshow": {
     "slide_type": "slide"
    }
   },
   "source": [
    "## Out of order execution\n",
    "- Notebooks are interactive and based on cells\n",
    "- Run a cell once or many times\n",
    "- Order of execution is not defined by the document\n",
    "- Unlike almost any other code you will write\n",
    "- A cause of confusion and error"
   ]
  },
  {
   "cell_type": "markdown",
   "metadata": {
    "slideshow": {
     "slide_type": "slide"
    }
   },
   "source": [
    "## Discourage Modularity and Testing\n",
    "- One Notebook == One Analysis\n",
    "- Big blocks of code, defining functions, all in one notebook\n",
    "- Spread through the notebook\n",
    "    - References to data files\n",
    "    - Configuration\n",
    "    - Dependencies (import statements)\n",
    "- How do we test code written in a notebook?"
   ]
  },
  {
   "cell_type": "markdown",
   "metadata": {
    "slideshow": {
     "slide_type": "slide"
    }
   },
   "source": [
    "## No help when writing code\n",
    "- Notebooks is a very poor programming environment by modern standards\n",
    "- Code Editors: VS Code, Pycharm, Sublime, Atom, Eclipse, IntelliJ Idea\n",
    "- Understand langauges and libraries\n",
    "- Provide context sensitive help\n",
    "- Help you check syntax, style of code\n",
    "- Make running tests easy"
   ]
  },
  {
   "cell_type": "markdown",
   "metadata": {
    "slideshow": {
     "slide_type": "slide"
    }
   },
   "source": [
    "## Hinder Reproducible and Extensible Science\n",
    "- **This is big** - these are some of the reasons we use notebooks\n",
    "- Notebooks make it easy to run the exact same experiment\n",
    "    - if you can install the same software\n",
    "    - and you have the data\n",
    "    - and the file paths work\n",
    "    - and they didn't rely on out-of-order execution\n",
    "- Can we extend or adapt?\n",
    "    - yes, by editing the notebook"
   ]
  },
  {
   "cell_type": "markdown",
   "metadata": {
    "slideshow": {
     "slide_type": "slide"
    }
   },
   "source": [
    "## What's the answer?\n",
    "- Some of these concerns are about habit/practice\n",
    "- If we are careful, we can do the right thing\n",
    "- Other things are just flawas in the Jupyter eco-system\n",
    "- Be aware of the concerns\n",
    "- Broaden your knowledge of alternate tools and methods"
   ]
  },
  {
   "cell_type": "markdown",
   "metadata": {
    "slideshow": {
     "slide_type": "slide"
    }
   },
   "source": [
    "## Python Outside of Notebooks\n",
    "- We can write Python code outside of notebook files\n",
    "- Write xyz.py file and run them\n",
    "    - Code editors for writing Python\n",
    "    - How do you run Python files?\n",
    "- As the code grows, modularise in multiple Python files\n",
    "- Thing about packaging commonly used code"
   ]
  },
  {
   "cell_type": "markdown",
   "metadata": {
    "slideshow": {
     "slide_type": "slide"
    }
   },
   "source": [
    "## Project Structure\n",
    "- How to structure a Python project directory\n",
    "- Different structures for different tasks\n",
    "    - Standalone project\n",
    "    - Reusable Python module\n",
    "- The Python [CookieCutter](https://cookiecutter.readthedocs.io/en/1.7.2/) utility is useful\n",
    "    - Initialises a project directory from a template\n",
    "    - People publish best-practices templates\n",
    "        - [Data Science Project](http://drivendata.github.io/cookiecutter-data-science/)\n",
    "        - [Python Package](https://github.com/kragniz/cookiecutter-pypackage-minimal)\n",
    "        - [Creating Custom Project Templates](https://towardsdatascience.com/cookiecutter-creating-custom-reusable-project-templates-fc85c8627b07)\n",
    "    - Demo..."
   ]
  },
  {
   "cell_type": "markdown",
   "metadata": {
    "slideshow": {
     "slide_type": "slide"
    }
   },
   "source": [
    "## Using Makefiles (Advanced)\n",
    "- The Data Science Project CookieCutter template uses [Make](https://www.gnu.org/software/make/)\n",
    "- Make is a tool for managing tasks and dependencies\n",
    "- Originally for compiling software, can be used for any tasks\n",
    "- Useful for Data Science Projects"
   ]
  },
  {
   "cell_type": "markdown",
   "metadata": {
    "slideshow": {
     "slide_type": "slide"
    }
   },
   "source": [
    "## Command Line Scripts\n",
    "- A Python script intended to be run from the command line\n",
    "- How do you run them?\n",
    "    - Need a command line prompt (MacOS: Terminal, Windows: Command Prompt)\n",
    "    - But could be within your environment (Jupyter, VS Code)\n",
    "    - Must have your Python environment loaded\n",
    "    - Then python xyz.py arg1, arg2, arg3\n",
    "- (or from a Makefile)"
   ]
  },
  {
   "cell_type": "markdown",
   "metadata": {
    "slideshow": {
     "slide_type": "slide"
    }
   },
   "source": [
    "## Why Command Line scripts\n",
    "- Like a notebook\n",
    "    - easy to re-run your process\n",
    "    - can edit-run-edit-run to debug\n",
    "- Unlike a notebook\n",
    "    - no out-of-order execution\n",
    "    - encourages parameterisation\n",
    "    - output to terminal or saved to a file\n",
    "    - more easily testable"
   ]
  },
  {
   "cell_type": "markdown",
   "metadata": {
    "slideshow": {
     "slide_type": "slide"
    }
   },
   "source": [
    "## Experimental Configuration\n",
    "- Most experiments we do have some configuration parameters\n",
    "    - Where is the input data\n",
    "    - What variables to use to train the model\n",
    "    - Number of clusters to look for in KMeans clustering algorithm\n",
    "- For more complex machine learning models there are more parameters\n",
    "- Easy just to include these in code"
   ]
  },
  {
   "cell_type": "markdown",
   "metadata": {
    "slideshow": {
     "slide_type": "slide"
    }
   },
   "source": [
    "## Experimental Configuration\n",
    "- Alternative is to include all configuration settings in a config file\n",
    "- Read settings in your script/notebook\n",
    "- No (or fewer) hard-coded values\n",
    "- Means that changing settings is easier\n",
    "- Encourages you to think about portability and modularity\n",
    "\n",
    "Alternative formats are YAML, JSON, INI - see [this article](https://martin-thoma.com/configuration-files-in-python/) for a summary"
   ]
  },
  {
   "cell_type": "markdown",
   "metadata": {
    "slideshow": {
     "slide_type": "slide"
    }
   },
   "source": [
    "## Testing in Data Science\n",
    "- Tests give you confidence that your code does what you expect\n",
    "- Help (force) you to think about what you expect\n",
    "- Make your assumptions explicit and checkable\n",
    "- Help to ensure that changes don't break assumptions\n",
    "\n",
    "Examples:\n",
    "- [TDD in a Data Science Workflow](https://towardsdatascience.com/tdd-datascience-689c98492fcc)\n",
    "- [Data Testing Tutorial](https://ericmjl.github.io/data-testing-tutorial/)\n",
    "- [Getting Started Testing: pytest edition](https://nedbatchelder.com/text/test3.html)\n",
    "- [Python Assert](https://realpython.com/python-assert-statement/#:~:text=in%20your%20code.-,What%20Are%20Assertions%3F,while%20you%27re%20debugging%20code.)"
   ]
  }
 ],
 "metadata": {
  "celltoolbar": "Slideshow",
  "kernelspec": {
   "display_name": "Python 3 (ipykernel)",
   "language": "python",
   "name": "python3"
  },
  "language_info": {
   "codemirror_mode": {
    "name": "ipython",
    "version": 3
   },
   "file_extension": ".py",
   "mimetype": "text/x-python",
   "name": "python",
   "nbconvert_exporter": "python",
   "pygments_lexer": "ipython3",
   "version": "3.11.5"
  }
 },
 "nbformat": 4,
 "nbformat_minor": 2
}
